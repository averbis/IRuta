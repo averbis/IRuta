{
 "cells": [
  {
   "cell_type": "markdown",
   "metadata": {},
   "source": [
    "# Exercise 6 - Brackets\n",
    "\n",
    "In this notebook, we try to annotate brackets and parentheses even if they are overlapping."
   ]
  },
  {
   "cell_type": "code",
   "execution_count": null,
   "metadata": {},
   "outputs": [],
   "source": [
    "%%documentText\n",
    "Lorem [ipsum (dolor) sit amet], [consectetur (adipiscing] elit).\n",
    "Cras efficitur (((ligula) nunc), sed iaculis) lectus feugiat at."
   ]
  },
  {
   "cell_type": "code",
   "execution_count": null,
   "metadata": {},
   "outputs": [],
   "source": [
    "%displayMode CSV\n",
    "%csvConfig InBrackets\n",
    "\n",
    "// For defining the Types, we use a new syntax\n",
    "// If we write:   \"DECLARE Type1 Type2, Type3\"\n",
    "// then Type2 and Type3 will inherit from Type1.\n",
    "DECLARE InBrackets;\n",
    "DECLARE InBrackets InRoundBrackets, InSquareBrackets;\n",
    "\n",
    "DECLARE RoundOpen, SquareOpen;\n",
    "DECLARE RoundClose, SquareClose;\n",
    "\n",
    "// first we classify the brackets with a FOREACH bock so we only iterate once over all SPECIALs\n",
    "FOREACH(special) SPECIAL{}{\n",
    "    special.ct==\"(\"{->RoundOpen};\n",
    "    special.ct==\")\"{->RoundClose};\n",
    "    special.ct==\"[\"{->SquareOpen};\n",
    "    special.ct==\"]\"{->SquareClose};\n",
    "}\n",
    "\n",
    "// If we annotate a bracket it becomes invisible, required for \"unstacking\" several brackets\n",
    "ADDFILTERTYPE(InRoundBrackets);\n",
    "\n",
    "// We iterate over all opening round brackets, in reverse order (from right to left)\n",
    "FOREACH(open, false) RoundOpen{}{\n",
    "    // we restrict the amount of elements in a bracket to 20 in case there is no closing one, \n",
    "    // So that the rule may not annotate across pages.\n",
    "    (open ANY[0,20]{-PARTOF(RoundClose)} RoundClose){-> InRoundBrackets};\n",
    "}\n",
    "REMOVEFILTERTYPE(InRoundBrackets);\n",
    "\n",
    "// The same for square brackets, but in a separate step so overlapping is supported\n",
    "ADDFILTERTYPE(InSquareBrackets);\n",
    "FOREACH(open, false) SquareOpen{}{\n",
    "    (open ANY[0,20]{-PARTOF(SquareClose)} SquareClose){-> InSquareBrackets};\n",
    "}\n",
    "REMOVEFILTERTYPE(InSquareBrackets);"
   ]
  }
 ],
 "metadata": {
  "kernelspec": {
   "display_name": "UIMA Ruta",
   "language": "ruta",
   "name": "ruta"
  },
  "language_info": {
   "codemirror_mode": "ruta",
   "file_extension": ".ruta",
   "mimetype": "text/ruta",
   "name": "UIMA Ruta",
   "pygments_lexer": "ruta",
   "version": "3.1.0"
  }
 },
 "nbformat": 4,
 "nbformat_minor": 4
}
