{
 "cells": [
  {
   "cell_type": "markdown",
   "metadata": {},
   "source": [
    "# Exercise 6 - Brackets\n",
    "\n",
    "In this notebook, we try to annotate brackets and parentheses even if they are overlapping."
   ]
  },
  {
   "cell_type": "code",
   "execution_count": null,
   "metadata": {},
   "outputs": [],
   "source": [
    "%%documentText\n",
    "Lorem [ipsum (dolor) sit amet], [consectetur (adipiscing] elit).\n",
    "Cras efficitur (((ligula) nunc), sed iaculis) lectus feugiat at."
   ]
  },
  {
   "cell_type": "code",
   "execution_count": null,
   "metadata": {},
   "outputs": [],
   "source": [
    "%displayMode CSV\n",
    "%csvConfig InBrackets\n",
    "\n",
    "// first we define some types\n",
    "DECLARE Open, Close, InBrackets;\n",
    "DECLARE InBrackets InRoundBrackets, InSquareBrackets;\n",
    "DECLARE Open RoundOpen, SquareOpen;\n",
    "DECLARE Close RoundClose, SquareClose;\n",
    "\n",
    "// first we classify the brackets with a FOREACH bock so we only iterate once over all SPECIALs\n",
    "FOREACH(special) SPECIAL{}{\n",
    "    special.ct==\"(\"{->RoundOpen};\n",
    "    special.ct==\")\"{->RoundClose};\n",
    "    special.ct==\"[\"{->SquareOpen};\n",
    "    special.ct==\"]\"{->SquareClose};\n",
    "}\n",
    "// if we annotate a bracket it becomes invisible, required for \"stacking\"\n",
    "ADDFILTERTYPE(InRoundBrackets);\n",
    "// we iterate over all opening round brackets, in reverse order\n",
    "FOREACH(open, false) RoundOpen{}{\n",
    "    // we restict the amount if elements in a bracket in case there is no closing one, \n",
    "    // so that the rule may not annotate across pages.\n",
    "    (open ANY[0,20]{-PARTOF(RoundClose)} RoundClose){-> InRoundBrackets};\n",
    "}\n",
    "REMOVEFILTERTYPE(InRoundBrackets);\n",
    "\n",
    "// the same for square brackets, but in a separate step so overlapping is supported\n",
    "ADDFILTERTYPE(InSquareBrackets);\n",
    "FOREACH(open, false) SquareOpen{}{\n",
    "    (open ANY[0,20]{-PARTOF(SquareClose)} SquareClose){-> InSquareBrackets};\n",
    "}\n",
    "REMOVEFILTERTYPE(InSquareBrackets);\n",
    "\n"
   ]
  }
 ],
 "metadata": {
  "kernelspec": {
   "display_name": "UIMA Ruta",
   "language": "ruta",
   "name": "ruta"
  },
  "language_info": {
   "codemirror_mode": "ruta",
   "file_extension": ".ruta",
   "mimetype": "text/ruta",
   "name": "UIMA Ruta",
   "pygments_lexer": "ruta",
   "version": "3.0.1"
  }
 },
 "nbformat": 4,
 "nbformat_minor": 4
}
