{
 "cells": [
  {
   "cell_type": "markdown",
   "metadata": {},
   "source": [
    "# Exercise 1: Phrase Chunking\n",
    "\n",
    "The goal of this exercise is the create a minimal chunker, a component that annotates noun, verb, and prepositional phrases. Given a reduced set of Part-of-Speech annotations, annotations of the types ChunkNP, ChunkVP and ChunkPP should be created. For simplicity reasons, Part-of-Speech tags are mocked."
   ]
  },
  {
   "cell_type": "code",
   "execution_count": 2,
   "metadata": {},
   "outputs": [],
   "source": [
    "%%documentText\n",
    "The little yellow dog barked at the cat.\n",
    "My name is Peter and I live in Freiburg."
   ]
  },
  {
   "cell_type": "code",
   "execution_count": 3,
   "metadata": {},
   "outputs": [
    {
     "data": {
      "text/html": [
       "<span style='background:#90ee90'>The</span><span style='background:#90ee90'> </span><span style='background:#90ee90'>little</span><span style='background:#90ee90'> </span><span style='background:#90ee90'>yellow</span><span style='background:#90ee90'> </span><span style='background:#90ee90'>dog</span> <span style='background:#ffc0cb'>barked</span> <span style='background:#add8e6'>at</span><span style='background:#add8e6'> </span><span style='background:#90ee90'>the</span><span style='background:#90ee90'> </span><span style='background:#90ee90'>cat</span>.<br /><span style='background:#90ee90'>My</span><span style='background:#90ee90'> </span><span style='background:#90ee90'>name</span> <span style='background:#ffc0cb'>is</span> <span style='background:#90ee90'>Peter</span> and <span style='background:#90ee90'>I</span> <span style='background:#ffc0cb'>live</span> <span style='background:#add8e6'>in</span><span style='background:#add8e6'> </span><span style='background:#90ee90'>Freiburg</span>."
      ]
     },
     "execution_count": 3,
     "metadata": {},
     "output_type": "execute_result"
    }
   ],
   "source": [
    "DECLARE ChunkNP, ChunkVP, ChunkPP;\n",
    "\n",
    "// some types for POS tags\n",
    "DECLARE DT, JJ, NN, V, IN, PRPS, PRP, CC, PUNCT;\n",
    "\n",
    "\n",
    "BLOCK(mockPOS) Document{}{\n",
    "    \"The\"{-> DT} \"little\"{-> JJ} \"yellow\"{-> JJ} \"dog\"{-> NN} \"barked\"{-> V} \n",
    "        \"at\"{-> IN} \"the\"{-> DT} \"cat\"{-> NN} \".\"{-> PUNCT};\n",
    "    \n",
    "    \"My\"{-> PRPS} \"name\"{-> NN} \"is\"{-> V} \"Peter\"{-> NN} \n",
    "        \"and\"{-> CC} \"I\"{-> PRP} \"live\"{-> V} \"in\"{-> IN} \"Freiburg\"{-> NN} \".\"{-> PUNCT};\n",
    "}\n",
    "\n",
    "((DT | PRPS)? JJ* @NN){-> ChunkNP};\n",
    "// actually, disjunctive (\"|\") and conjunctive (\"&\") rule elements should be avoided.\n",
    "// the rule could also look like:\n",
    "//(ANY?{PARTOF({DT,PRPS})} JJ* @NN){-> ChunkNP};\n",
    "\n",
    "PRP{-> ChunkNP};\n",
    "V{-> ChunkVP};\n",
    "(IN ChunkNP){-> ChunkPP};\n",
    "\n",
    "COLOR(ChunkNP, \"lightgreen\");\n",
    "COLOR(ChunkVP, \"pink\");\n",
    "COLOR(ChunkPP, \"lightblue\");\n"
   ]
  }
 ],
 "metadata": {
  "kernelspec": {
   "display_name": "UIMA Ruta",
   "language": "ruta",
   "name": "ruta"
  },
  "language_info": {
   "codemirror_mode": "ruta",
   "file_extension": ".ruta",
   "mimetype": "text/ruta",
   "name": "UIMA Ruta",
   "pygments_lexer": "ruta",
   "version": "3.0.1"
  }
 },
 "nbformat": 4,
 "nbformat_minor": 4
}
