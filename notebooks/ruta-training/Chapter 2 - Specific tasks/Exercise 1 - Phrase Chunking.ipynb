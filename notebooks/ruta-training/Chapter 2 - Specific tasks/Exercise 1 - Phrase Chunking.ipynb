{
 "cells": [
  {
   "cell_type": "markdown",
   "metadata": {},
   "source": [
    "# Exercise 1: Phrase Chunking\n",
    "\n",
    "The goal of this exercise is to create a minimal chunker, a component that annotates noun, verb, and prepositional phrases. Given a reduced set of Part-of-Speech annotations, annotations of the types `ChunkNP`, `ChunkVP` and `ChunkPP` should be created. For simplicity reasons, part-of-speech tags are mocked."
   ]
  },
  {
   "cell_type": "code",
   "execution_count": null,
   "metadata": {},
   "outputs": [],
   "source": [
    "%%documentText\n",
    "The little yellow dog barked at the cat.\n",
    "My name is Peter and I live in Freiburg."
   ]
  },
  {
   "cell_type": "code",
   "execution_count": null,
   "metadata": {},
   "outputs": [],
   "source": [
    "DECLARE ChunkNP, ChunkVP, ChunkPP;\n",
    "\n",
    "// A selection of Types for part-of-speech (POS) tags\n",
    "// For an explanation of the type names, see: https://cs.nyu.edu/~grishman/jet/guide/PennPOS.html\n",
    "DECLARE DT, JJ, NN, V, IN, PRPS, PRP, CC, PUNCT;\n",
    "\n",
    "// We are mocking part of speech tags. Normally, they are created by another component.\n",
    "BLOCK(mockPOS) Document{}{\n",
    "    \"The\"{-> DT} \"little\"{-> JJ} \"yellow\"{-> JJ} \"dog\"{-> NN} \"barked\"{-> V} \n",
    "        \"at\"{-> IN} \"the\"{-> DT} \"cat\"{-> NN} \".\"{-> PUNCT};\n",
    "    \n",
    "    \"My\"{-> PRPS} \"name\"{-> NN} \"is\"{-> V} \"Peter\"{-> NN} \n",
    "        \"and\"{-> CC} \"I\"{-> PRP} \"live\"{-> V} \"in\"{-> IN} \"Freiburg\"{-> NN} \".\"{-> PUNCT};\n",
    "}\n",
    "\n",
    "// Noun phrases\n",
    "((DT | PRPS)? JJ* @NN){-> ChunkNP};\n",
    "// actually, disjunctive (\"|\") and conjunctive (\"&\") rule elements should be avoided.\n",
    "// the rule could also look like:\n",
    "//(ANY?{PARTOF({DT,PRPS})} JJ* @NN){-> ChunkNP};\n",
    "PRP{-> ChunkNP};\n",
    "\n",
    "// Verb phrases\n",
    "V{-> ChunkVP};\n",
    "\n",
    "// Prepositional phrases\n",
    "(IN ChunkNP){-> ChunkPP};\n",
    "\n",
    "COLOR(ChunkNP, \"lightgreen\");\n",
    "COLOR(ChunkVP, \"pink\");\n",
    "COLOR(ChunkPP, \"lightblue\");"
   ]
  }
 ],
 "metadata": {
  "kernelspec": {
   "display_name": "UIMA Ruta",
   "language": "ruta",
   "name": "ruta"
  },
  "language_info": {
   "codemirror_mode": "ruta",
   "file_extension": ".ruta",
   "mimetype": "text/ruta",
   "name": "UIMA Ruta",
   "pygments_lexer": "ruta",
   "version": "3.1.0"
  }
 },
 "nbformat": 4,
 "nbformat_minor": 4
}
