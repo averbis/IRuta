{
 "cells": [
  {
   "cell_type": "markdown",
   "metadata": {},
   "source": [
    "# Exercise 3: Undesirable Effect Relations in Tables\n",
    "\n",
    "The goal of this exercise is to create a simple rule script for extracting undesirable effect information from tables. Declare a new annotation type named \"UndesirableEffect\" with three features of the type Annotation. \n",
    "The first feature named \"class\" represents the symptom class of the undesirable effect. The second feature named \"effect\" represents a actual effect of the relation. the thirs feature named \"frequency\" represents the frequency of the effect."
   ]
  },
  {
   "cell_type": "markdown",
   "metadata": {},
   "source": [
    "First, we take a look at the two example tables."
   ]
  },
  {
   "cell_type": "code",
   "execution_count": null,
   "metadata": {
    "scrolled": true
   },
   "outputs": [],
   "source": [
    "%inputDir input_table1\n",
    "%displayMode RUTA_COLORING"
   ]
  },
  {
   "cell_type": "code",
   "execution_count": null,
   "metadata": {},
   "outputs": [],
   "source": [
    "%inputDir input_table2\n",
    "%displayMode RUTA_COLORING"
   ]
  },
  {
   "cell_type": "markdown",
   "metadata": {},
   "source": [
    "Now, we write some rules to extract the triples."
   ]
  },
  {
   "cell_type": "code",
   "execution_count": null,
   "metadata": {
    "scrolled": true
   },
   "outputs": [],
   "source": [
    "%inputDir input_table1\n",
    "%outputDir output\n",
    "%displayMode CSV\n",
    "%csvConfig UndesirableEffect frequency class \n",
    "%writescript ./UndesirableEffect.ruta\n",
    "%saveTypeSystem ./UndesirableEffectTypeSystem.xml\n",
    "// we want to use the old DefaultSeeder for MARKUP annotations\n",
    "%configParams --seeders=org.apache.uima.ruta.seed.DefaultSeeder\n",
    "\n",
    "TYPESYSTEM org.apache.uima.ruta.engine.HtmlTypeSystem;\n",
    "UIMAFIT org.apache.uima.ruta.engine.HtmlAnnotator;\n",
    "\n",
    "EXEC(HtmlAnnotator, {TAG});\n",
    "RETAINTYPE(WS, MARKUP);\n",
    "TAG{-> TRIM(WS, MARKUP)};\n",
    "RETAINTYPE;\n",
    "\n",
    "// the targeted relation\n",
    "DECLARE UndesirableEffect (Annotation class, Annotation effect, Annotation frequency);\n",
    "// we define a macro action just for shorter rules later\n",
    "ACTION UE(ANNOTATION class, ANNOTATION effect, ANNOTATION frequency) = \n",
    "    CREATE(UndesirableEffect, \"class\"= class, \"effect\" = effect, \"frequency\" = frequency) ;\n",
    "\n",
    "// annotate frequencies like \"common\"\n",
    "DECLARE FrequencyInd;\n",
    "WORDLIST FrequencyList = 'Frequencies.txt';\n",
    "MARKFAST(FrequencyInd, FrequencyList, true);\n",
    "FrequencyInd->{ANY f:FrequencyInd{-> UNMARK(f)};};\n",
    "\n",
    "// some useful annotations\n",
    "INT index;\n",
    "DECLARE Cell(INT column);\n",
    "DECLARE FirstRow, FirstColumn, FrequencyCell;\n",
    "TR{STARTSWITH(TABLE)-> FirstRow};\n",
    "TD{STARTSWITH(TR)-> FirstColumn};\n",
    "TD{CONTAINS(FrequencyInd)-> FrequencyCell};\n",
    "// create annoations with additional information about the column\n",
    "TR{->index=0}->{\n",
    "    TD{->index = index+1, CREATE(Cell,\"column\"=index)};\n",
    "};\n",
    "\n",
    "// candidates for the effect\n",
    "DECLARE Chunk;\n",
    "TD{-CONTAINS(FrequencyInd), -PARTOF(FirstColumn), -REGEXP(\"-\") -> Chunk};\n",
    "Chunk{CONTAINS(COMMA)-> SPLIT(COMMA)};\n",
    "\n",
    "DECLARE Header;\n",
    "\"System organ class\"-> Header;\n",
    "\n",
    "// the actual rules\n",
    "\n",
    "c:TD{PARTOF(FirstColumn),-PARTOF(Header), -PARTOF(FrequencyCell)} \n",
    "    # f:FrequencyCell \n",
    "    # e:@Chunk{-PARTOF(UndesirableEffect) -> UE(c,e,f)};\n",
    "\n",
    "// a rule for format 2\n",
    "fc:Cell{PARTOF(FirstRow),PARTOF(FrequencyCell),fc.column==c.column}\n",
    "    # cc:Cell{PARTOF(FirstColumn), -PARTOF(FrequencyCell)}\n",
    "    # c:@Cell{CONTAINS(Chunk),-PARTOF(UndesirableEffect)}\n",
    "    ->{e:@Chunk{-PARTOF(UndesirableEffect)-> UE(cc,e,fc)};};\n"
   ]
  },
  {
   "cell_type": "markdown",
   "metadata": {},
   "source": [
    "We apply the rules above on the second example."
   ]
  },
  {
   "cell_type": "code",
   "execution_count": null,
   "metadata": {},
   "outputs": [],
   "source": [
    "%inputDir input_table2\n",
    "%displayMode CSV\n",
    "%csvConfig UndesirableEffect frequency class \n",
    "\n",
    "SCRIPT UndesirableEffect;\n",
    "CALL(UndesirableEffect);"
   ]
  }
 ],
 "metadata": {
  "kernelspec": {
   "display_name": "UIMA Ruta",
   "language": "ruta",
   "name": "ruta"
  },
  "language_info": {
   "codemirror_mode": "ruta",
   "file_extension": ".ruta",
   "mimetype": "text/ruta",
   "name": "UIMA Ruta",
   "pygments_lexer": "ruta",
   "version": "3.0.1"
  }
 },
 "nbformat": 4,
 "nbformat_minor": 4
}
