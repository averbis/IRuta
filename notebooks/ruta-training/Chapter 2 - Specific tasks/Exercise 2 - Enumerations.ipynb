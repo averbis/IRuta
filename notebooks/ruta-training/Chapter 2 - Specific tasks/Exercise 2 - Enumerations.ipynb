{
 "cells": [
  {
   "cell_type": "markdown",
   "metadata": {},
   "source": [
    "# Exercise 2: Enumerations\n",
    "\n",
    "The goal of this exercise is to create a simple script for annotating enumerations. We declare a new annotation type \"Enumeration\" with one feature \"elements\" of the type \"FSArray\". We specify rules so that the annotations of the type \"Enumeration\" cover the complete span of the enumeration in the examples while their features contain the single elements of the enumerations."
   ]
  },
  {
   "cell_type": "code",
   "execution_count": null,
   "metadata": {},
   "outputs": [],
   "source": [
    "%%documentText\n",
    "breast and ovarian cancer.\n",
    "colorectal, endometrial, and ovarian cancers.\n",
    "colorectal, endometrial and ovarian cancers.\n",
    "vasculopathy of the heart and brain.\n",
    "abnormalities of eyes, nervous system, and kidneys.\n",
    "breast or ovarian cancer.\n",
    "breast and/or ovarian cancer."
   ]
  },
  {
   "cell_type": "code",
   "execution_count": null,
   "metadata": {},
   "outputs": [],
   "source": [
    "%displayMode DYNAMIC_HTML\n",
    "%dynamicHtmlAllowedTypes Enumeration Chunk\n",
    "\n",
    "DECLARE Enumeration (FSArray elements);\n",
    "\n",
    "DECLARE Conj, Chunk;\n",
    "W -> {\n",
    "    Document.ct == \"and\" {-> Conj};\n",
    "    Document.ct == \"or\" {-> Conj};\n",
    "};\n",
    "Conj{-> SHIFT(Conj, 1, 3)} SPECIAL Conj{-> UNMARK(Conj)};\n",
    "\n",
    "W+{-PARTOF({Conj,Chunk}) -> Chunk};\n",
    "\n",
    "(Chunk{-PARTOF(Enumeration)} \n",
    "    (COMMA Chunk)* COMMA? Conj Chunk)\n",
    "    {-> CREATE(Enumeration, \"elements\" = Chunk)};\n",
    "\n"
   ]
  }
 ],
 "metadata": {
  "kernelspec": {
   "display_name": "UIMA Ruta",
   "language": "ruta",
   "name": "ruta"
  },
  "language_info": {
   "codemirror_mode": "ruta",
   "file_extension": ".ruta",
   "mimetype": "text/ruta",
   "name": "UIMA Ruta",
   "pygments_lexer": "ruta",
   "version": "3.0.1"
  }
 },
 "nbformat": 4,
 "nbformat_minor": 4
}
