{
 "cells": [
  {
   "cell_type": "markdown",
   "metadata": {},
   "source": [
    "# Exercise 2: Enumerations\n",
    "\n",
    "The goal of this exercise is to create a simple script for annotating enumerations. We declare a new annotation type `Enumeration` with one feature `elements` of the type `FSArray`. Broadly said, `FSArray` is an array of `Annotation` instances (`CHUNKs` in our case).\n",
    "\n",
    "We specify rules so that the annotations of the type `Enumeration` cover the complete span of the enumeration in the examples while their features contain the single elements of the enumerations."
   ]
  },
  {
   "cell_type": "code",
   "execution_count": null,
   "metadata": {},
   "outputs": [],
   "source": [
    "%%documentText\n",
    "This is not an enumeration.\n",
    "breast and ovarian cancer.\n",
    "colorectal, endometrial, and ovarian cancers.\n",
    "colorectal, endometrial and ovarian cancers.\n",
    "vasculopathy of the heart and brain.\n",
    "abnormalities of eyes, nervous system, and kidneys.\n",
    "breast or ovarian cancer.\n",
    "breast and/or ovarian cancer.\n",
    "Have a nice day."
   ]
  },
  {
   "cell_type": "code",
   "execution_count": null,
   "metadata": {},
   "outputs": [],
   "source": [
    "%displayMode DYNAMIC_HTML\n",
    "%dynamicHtmlAllowedTypes Enumeration Chunk Conj\n",
    "\n",
    "DECLARE Enumeration (FSArray elements);\n",
    "\n",
    "DECLARE Conj, Chunk;\n",
    "\"and\" {-> Conj};\n",
    "\"or\" {-> Conj};\n",
    "\n",
    "// For special cases like \"and/or\", we combine both Conj into a single one\n",
    "Conj{-> SHIFT(Conj, 1, 3)} SPECIAL Conj{-> UNMARK(Conj)};\n",
    "\n",
    "// All words outside Conj are considered Chunks\n",
    "W+{-PARTOF(Conj) -> Chunk};\n",
    "\n",
    "// Combine Chunks into Enumeration\n",
    "(Chunk{-PARTOF(Enumeration)} \n",
    "    (COMMA Chunk)* COMMA? Conj Chunk)\n",
    "    {-> CREATE(Enumeration, \"elements\" = Chunk)};"
   ]
  }
 ],
 "metadata": {
  "kernelspec": {
   "display_name": "UIMA Ruta",
   "language": "ruta",
   "name": "ruta"
  },
  "language_info": {
   "codemirror_mode": "ruta",
   "file_extension": ".ruta",
   "mimetype": "text/ruta",
   "name": "UIMA Ruta",
   "pygments_lexer": "ruta",
   "version": "3.1.0"
  }
 },
 "nbformat": 4,
 "nbformat_minor": 4
}
