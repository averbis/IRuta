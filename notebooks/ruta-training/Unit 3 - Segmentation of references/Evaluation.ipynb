{
 "cells": [
  {
   "cell_type": "code",
   "execution_count": null,
   "metadata": {},
   "outputs": [],
   "source": [
    "%inputDir data/part1\n",
    "%displayMode EVALUATION\n",
    "%evalTypes Author Date\n",
    "\n",
    "TYPESYSTEM ReferencesTypeSystem;\n",
    "\n",
    "(# COLON){-> Author};\n",
    "(NUM{REGEXP(\".{4}\")} PM?){->Date};\n"
   ]
  }
 ],
 "metadata": {
  "kernelspec": {
   "display_name": "UIMA Ruta",
   "language": "ruta",
   "name": "ruta"
  },
  "language_info": {
   "codemirror_mode": "ruta",
   "file_extension": ".ruta",
   "mimetype": "text/ruta",
   "name": "UIMA Ruta",
   "pygments_lexer": "ruta",
   "version": "3.0.1"
  }
 },
 "nbformat": 4,
 "nbformat_minor": 4
}
