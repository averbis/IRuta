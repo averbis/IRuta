{
 "cells": [
  {
   "cell_type": "code",
   "execution_count": null,
   "metadata": {},
   "outputs": [],
   "source": [
    "%inputDir data/part1\n",
    "%outputDir out1\n",
    "%displayMode EVALUATION\n",
    "%evalTypes Date\n",
    "%writescript ./Date.ruta\n",
    "%saveTypeSystem ./DateTypeSystem.xml\n",
    "\n",
    "TYPESYSTEM ReferencesTypeSystem;\n",
    "\n",
    "DECLARE MonthInd, YearInd;\n",
    "WORDLIST MonthList = \"months.txt\";\n",
    "MARKFAST(MonthInd, MonthList);\n",
    "\n",
    "DECLARE NoDatePrefix;\n",
    "WORDLIST NoDatePrefixList = \"no_date_prefix.txt\";\n",
    "MARKFAST(NoDatePrefix, NoDatePrefixList);\n",
    "\n",
    "BLOCK(Date) Reference{}{\n",
    "    \n",
    "    // some simple candidates for dates\n",
    "    NUM{REGEXP(\"19..|20..\")-> YearInd};\n",
    "    // some dates also have an additional char\n",
    "    y:@YearInd{-> y.end=sw.end} sw:SW{REGEXP(\"[abc]\")};\n",
    "    \n",
    "    // create dates using YearInd\n",
    "    (SPECIAL.ct==\"(\" @YearInd SPECIAL.ct==\")\" COMMA?){-> Date};\n",
    "    (@YearInd{-PARTOF(Date)} PERIOD){-> Date};\n",
    "    (@YearInd{-PARTOF(Date)} COMMA[0,2]){-> Date};\n",
    "    \n",
    "    // expand Dates based on context\n",
    "    m:MonthInd (NUM SPECIAL)? NUM COMMA? d:@Date{-> d.begin = m.begin};\n",
    "    s:NUM SPECIAL NUM MonthInd d:@Date{-> d.begin = s.begin};\n",
    "    m:MonthInd d:@Date{-> d.begin = m.begin};\n",
    "    w1:W{INLIST(MonthList, \"\"+w1.ct+w2.ct)} SPECIAL w2:W d:@Date{-> d.begin = w1.begin};\n",
    "    \n",
    "    //(MonthInd{-PARTOF(Date)} PERIOD?){-> Date};\n",
    "    \n",
    "    s1:SPECIAL.ct==\"(\" d:@Date{-> d.begin=s1.begin,d.end=s2.end} s2:SPECIAL.ct==\")\";\n",
    "    d:@Date{-> d.end=e.end} e:PERIOD;\n",
    "    b:NUM{REGEXP(\".|[12].|3[01]\")} d:@Date{STARTSWITH(YearInd)-> d.begin=b.begin};\n",
    "    \n",
    "    // remove some false positive dates\n",
    "    NoDatePrefix SPECIAL? d:@Date{-> UNMARK(d)};\n",
    "    d1:Date{-> UNMARK(d1)} SPECIAL NUM;\n",
    "    NUM SPECIAL d2:@Date{-> UNMARK(d2)};\n",
    "}\n",
    "\n",
    "\n"
   ]
  },
  {
   "cell_type": "code",
   "execution_count": null,
   "metadata": {},
   "outputs": [],
   "source": [
    "%inputDir out1\n",
    "%outputDir trash\n",
    "%displayMode CSV\n",
    "%csvConfig BadReference\n",
    "\n",
    "DECLARE BadReference;\n",
    "Reference{OR(CONTAINS(FalsePositive),CONTAINS(FalseNegative)),-PARTOF(BadReference)-> BadReference};\n",
    "\n",
    "COLOR(TruePositive, \"lightgreen\");\n",
    "COLOR(FalsePositive, \"lightblue\");\n",
    "COLOR(FalseNegative, \"pink\");"
   ]
  },
  {
   "cell_type": "code",
   "execution_count": null,
   "metadata": {},
   "outputs": [],
   "source": [
    "%inputDir data/part2\n",
    "%outputDir out2\n",
    "%displayMode EVALUATION\n",
    "%evalTypes Date\n",
    "\n",
    "SCRIPT Date;\n",
    "CALL(Date);"
   ]
  },
  {
   "cell_type": "code",
   "execution_count": null,
   "metadata": {},
   "outputs": [],
   "source": [
    "%inputDir out2\n",
    "%outputDir trash\n",
    "%displayMode CSV\n",
    "%csvConfig BadReference\n",
    "\n",
    "DECLARE BadReference;\n",
    "Reference{OR(CONTAINS(FalsePositive),CONTAINS(FalseNegative)),-PARTOF(BadReference)-> BadReference};\n",
    "\n",
    "COLOR(TruePositive, \"lightgreen\");\n",
    "COLOR(FalsePositive, \"lightblue\");\n",
    "COLOR(FalseNegative, \"pink\");"
   ]
  },
  {
   "cell_type": "code",
   "execution_count": null,
   "metadata": {},
   "outputs": [],
   "source": [
    "%inputDir data/part3\n",
    "%displayMode EVALUATION\n",
    "%evalTypes Date\n",
    "\n",
    "SCRIPT Date;\n",
    "CALL(Date);"
   ]
  }
 ],
 "metadata": {
  "kernelspec": {
   "display_name": "UIMA Ruta",
   "language": "ruta",
   "name": "ruta"
  },
  "language_info": {
   "codemirror_mode": "ruta",
   "file_extension": ".ruta",
   "mimetype": "text/ruta",
   "name": "UIMA Ruta",
   "pygments_lexer": "ruta",
   "version": "3.0.1"
  }
 },
 "nbformat": 4,
 "nbformat_minor": 4
}
