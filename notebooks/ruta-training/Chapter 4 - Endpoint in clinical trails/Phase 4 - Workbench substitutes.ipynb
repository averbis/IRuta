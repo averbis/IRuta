{
 "cells": [
  {
   "cell_type": "markdown",
   "metadata": {},
   "source": [
    "# Phase 4 - Workbench substitutes\n",
    "\n",
    "As the rules are extended and become more complex, the need for more complex tooling also increases. The UIMA Ruta Workbench provides several features which are essential for developing large and complex scripts. These features include explanation of the rule execution (including inlined rules and conditions), profiling as well as which rule created a specific annotations. These features are not (yet) available in IRuta, but can be substituted to a certain degree. This notebook provides some examples how to approach some challenges during rule engineering. "
   ]
  },
  {
   "cell_type": "markdown",
   "metadata": {},
   "source": [
    "First, we simply run the script developed in the previous notebooks and activate the debugging/explanation functionality of UIMA Ruta using the configuration parameters of the analysis engine. We only load one specific document, but we could do this also for all other documents."
   ]
  },
  {
   "cell_type": "code",
   "execution_count": null,
   "metadata": {},
   "outputs": [],
   "source": [
    "%loadCas ./data-nlp/20878159.txt.xmi\n",
    "%outputDir ./temp/debug-out\n",
    "%displayMode NONE\n",
    "%configParams --debug=true --debugWithMatches=true --debugAddToIndexes=true --createdBy=true --profile=true --statistics=true\n",
    "\n",
    "%scriptDir temp/\n",
    "%typeSystemDir typesystems/\n",
    "\n",
    "SCRIPT Endpoints;\n",
    "TYPESYSTEM EndpointsTypeSystem;\n",
    "CALL(Endpoints);"
   ]
  },
  {
   "cell_type": "markdown",
   "metadata": {},
   "source": [
    "Now, we have additional information about the rule execution and can investigate this information. As the script is extended and more rules are added during rapid prototyping, the execution of the script becomes slower. In this cell, we list all rules and inspect their runtime performance, i.e. how fast the rule have been applied. This can be a useful pointer, which rules are too slow and should be rewritten."
   ]
  },
  {
   "cell_type": "code",
   "execution_count": null,
   "metadata": {},
   "outputs": [],
   "source": [
    "%loadCas ./temp/debug-out/20878159.txt.xmi\n",
    "%outputDir ./temp/trash\n",
    "%displayMode CSV\n",
    "%csvConfig -ProfiledRule element time\n",
    "\n",
    "DECLARE ProfiledRule(STRING element, INT time);\n",
    "ACTION Profiled(ANNOTATION dra) = CREATE(ProfiledRule, \n",
    "    \"element\"=dra.element,\n",
    "    \"time\"=dra.time);\n",
    "rule:DebugRuleApply{-> Profiled(rule)};"
   ]
  },
  {
   "cell_type": "markdown",
   "metadata": {},
   "source": [
    "In the next cell, we use the created debug information to investigate the matching of the rules. The cell lists all rules with a UNMARK action (rules that remove an annotation) including the number of overall (tried) and successful (applied) matches. This provides a useful pointer if a rule did match at all and if it did, how often."
   ]
  },
  {
   "cell_type": "code",
   "execution_count": null,
   "metadata": {},
   "outputs": [],
   "source": [
    "%loadCas ./temp/debug-out/20878159.txt.xmi\n",
    "%outputDir ./temp/unused\n",
    "%displayMode CSV\n",
    "%csvConfig -DebugRule element applied tried\n",
    "\n",
    "DECLARE DebugRule(STRING element, INT applied, INT tried);\n",
    "ACTION Debug(ANNOTATION dra) = CREATE(DebugRule, \n",
    "    \"element\"=dra.element,\n",
    "    \"applied\"=dra.applied,\n",
    "    \"tried\"=dra.tried);\n",
    "\n",
    "rule:DebugRuleApply{REGEXP(rule.element, \".*UNMARK.*\")-> Debug(rule)};\n"
   ]
  },
  {
   "cell_type": "markdown",
   "metadata": {},
   "source": [
    "The next step is usually investigating where and why a rule did match or failed to match. The next cell highlights the positions where a specific rule failed to match (pink) or succeeded to match (lightgreen)."
   ]
  },
  {
   "cell_type": "code",
   "execution_count": null,
   "metadata": {},
   "outputs": [],
   "source": [
    "%loadCas ./temp/debug-out/20878159.txt.xmi\n",
    "%outputDir ./temp/unused\n",
    "%displayMode CSV\n",
    "%csvConfig DocumentAnnotation\n",
    "DECLARE Matched,Failed;\n",
    "apply:DebugRuleApply{apply.element==\"v:Value{->UNMARK(v)} CIInd;\"}->{\n",
    "    match:apply.rules->{\n",
    "        match.type==DebugMatchedRuleMatch{->Matched};\n",
    "        match.type==DebugFailedRuleMatch{->Failed};\n",
    "    };\n",
    "};\n",
    "COLOR(Matched, \"lightgreen\");\n",
    "COLOR(Failed, \"pink\");"
   ]
  }
 ],
 "metadata": {
  "kernelspec": {
   "display_name": "UIMA Ruta",
   "language": "ruta",
   "name": "ruta"
  },
  "language_info": {
   "codemirror_mode": "ruta",
   "file_extension": ".ruta",
   "mimetype": "text/ruta",
   "name": "UIMA Ruta",
   "pygments_lexer": "ruta",
   "version": "3.1.0"
  }
 },
 "nbformat": 4,
 "nbformat_minor": 4
}
