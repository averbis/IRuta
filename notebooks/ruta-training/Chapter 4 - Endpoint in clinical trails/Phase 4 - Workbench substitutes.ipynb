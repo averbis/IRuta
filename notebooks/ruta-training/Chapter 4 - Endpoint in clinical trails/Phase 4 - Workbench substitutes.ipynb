{
 "cells": [
  {
   "cell_type": "markdown",
   "metadata": {},
   "source": [
    "# Phase 4 - Workbench substitutes"
   ]
  },
  {
   "cell_type": "code",
   "execution_count": null,
   "metadata": {},
   "outputs": [],
   "source": [
    "%loadCas ./data-nlp/20878159.txt.xmi\n",
    "%outputDir ./temp/debug-out\n",
    "%displayMode NONE\n",
    "%configParams --debug=true --debugWithMatches=true --debugAddToIndexes=true --createdBy=true --profile=true --statistics=true\n",
    "SCRIPT Endpoints;\n",
    "TYPESYSTEM EndpointsTypeSystem;\n",
    "CALL(Endpoints);"
   ]
  },
  {
   "cell_type": "code",
   "execution_count": null,
   "metadata": {},
   "outputs": [],
   "source": [
    "%loadCas ./temp/debug-out/20878159.txt.xmi\n",
    "%outputDir ./temp/trash\n",
    "%displayMode CSV\n",
    "%csvConfig -ProfiledRule element time\n",
    "\n",
    "DECLARE ProfiledRule(STRING element, INT time);\n",
    "ACTION Profiled(ANNOTATION dra) = CREATE(ProfiledRule, \n",
    "    \"element\"=dra.element,\n",
    "    \"time\"=dra.time);\n",
    "rule:DebugRuleApply{-> Profiled(rule)};"
   ]
  },
  {
   "cell_type": "code",
   "execution_count": null,
   "metadata": {},
   "outputs": [],
   "source": [
    "%loadCas ./temp/debug-out/20878159.txt.xmi\n",
    "%outputDir ./temp/trash\n",
    "%displayMode CSV\n",
    "%csvConfig -DebugRule element applied tried\n",
    "\n",
    "DECLARE DebugRule(STRING element, INT applied, INT tried);\n",
    "ACTION Debug(ANNOTATION dra) = CREATE(DebugRule, \n",
    "    \"element\"=dra.element,\n",
    "    \"applied\"=dra.applied,\n",
    "    \"tried\"=dra.tried);\n",
    "\n",
    "rule:DebugRuleApply{REGEXP(rule.element, \".*UNMARK.*\")-> Debug(rule)};\n"
   ]
  },
  {
   "cell_type": "code",
   "execution_count": null,
   "metadata": {},
   "outputs": [],
   "source": [
    "%loadCas ./temp/debug-out/20878159.txt.xmi\n",
    "%outputDir ./temp/trash\n",
    "%displayMode CSV\n",
    "%csvConfig DocumentAnnotation\n",
    "DECLARE Matched,Failed;\n",
    "apply:DebugRuleApply{REGEXP(apply.element, \".*NoValueContextInd;\")}->{\n",
    "    match:apply.rules->{\n",
    "        match.type==DebugMatchedRuleMatch{->Matched};\n",
    "        match.type==DebugFailedRuleMatch{->Failed};\n",
    "    };\n",
    "};\n",
    "COLOR(Matched, \"lightgreen\");\n",
    "COLOR(Failed, \"pink\");"
   ]
  },
  {
   "cell_type": "code",
   "execution_count": null,
   "metadata": {},
   "outputs": [],
   "source": [
    "%loadCas ./temp/debug-out/20878159.txt.xmi\n",
    "%outputDir ./temp/trash\n",
    "%displayMode CSV\n",
    "%csvConfig CreatedBy rule\n",
    "\n",
    "DECLARE CreatedBy(STRING rule);\n",
    "ACTION CreatedBy(ANNOTATION arg) = CREATE(CreatedBy,\"rule\"=arg.rule);\n",
    "a:DebugCreatedBy.annotation{a.ct==\"38.2 months\",a.type==Value->CreatedBy(c)};\n"
   ]
  }
 ],
 "metadata": {
  "kernelspec": {
   "display_name": "UIMA Ruta",
   "language": "ruta",
   "name": "ruta"
  },
  "language_info": {
   "codemirror_mode": "ruta",
   "file_extension": ".ruta",
   "mimetype": "text/ruta",
   "name": "UIMA Ruta",
   "pygments_lexer": "ruta",
   "version": "3.0.1"
  }
 },
 "nbformat": 4,
 "nbformat_minor": 4
}
