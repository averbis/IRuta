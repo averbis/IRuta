{
 "cells": [
  {
   "cell_type": "markdown",
   "metadata": {},
   "source": [
    "# Phase 1 - Inpect data and gold standard\n",
    "\n",
    "This notebook provides the opportunity to inspect the given gold standard.\n",
    "\n",
    "The chapter provides 100 abstracts annotated with some endpoint defined in the `TrialsTypeSystem`. An additional folder contains this gold standard extended with linguistic preprocessing annotations (folder `data-nlp`). These annotations have been created using [DKPro Core - Stanford CoreNLP](https://dkpro.github.io/dkpro-core/). \n",
    "\n",
    "The three relevant entities in the data set are\n",
    "* overall response rate (`ORR`), \n",
    "* overall survival (`OS`) and \n",
    "* progression free survival (`PFS`)"
   ]
  },
  {
   "cell_type": "code",
   "execution_count": null,
   "metadata": {
    "scrolled": true
   },
   "outputs": [],
   "source": [
    "%inputDir data-nlp\n",
    "%displayMode CSV\n",
    "%csvConfig SentenceWithEndpoint\n",
    "%typeSystemDir typesystems/\n",
    "\n",
    "TYPESYSTEM TrialsTypeSystem;\n",
    "TYPESYSTEM DKProCoreTypeSystem;\n",
    "\n",
    "DECLARE SentenceWithEndpoint;\n",
    "\n",
    "Sentence{CONTAINS(TrialsEntity)-> SentenceWithEndpoint};\n",
    "\n",
    "// ORR is shown in red\n",
    "COLOR(ORR, \"red\");\n",
    "\n",
    "// OS-related entities are depicted in three different shades of green\n",
    "COLOR(OSMean, \"#65FF5B\");\n",
    "COLOR(OSTime, \"#51C849\");\n",
    "COLOR(OSRate, \"#23C318\");\n",
    "\n",
    "// PFS-related entities are depicted in three different shades of blue\n",
    "COLOR(PFSMean, \"#788AFF\");\n",
    "COLOR(PFSTime, \"#707BC3\");\n",
    "COLOR(PFSRate, \"#0020F5\");\n"
   ]
  },
  {
   "cell_type": "markdown",
   "metadata": {},
   "source": [
    "We also take a closer look at a single document and get an overview which annotations have been added by CoreNLP. "
   ]
  },
  {
   "cell_type": "code",
   "execution_count": null,
   "metadata": {},
   "outputs": [],
   "source": [
    "%loadCas ./data-nlp/11956647.txt.xmi\n",
    "%displayMode DYNAMIC_HTML\n",
    "\n",
    "TYPESYSTEM TrialsTypeSystem;\n",
    "TYPESYSTEM DKProCoreTypeSystem;"
   ]
  }
 ],
 "metadata": {
  "kernelspec": {
   "display_name": "UIMA Ruta",
   "language": "ruta",
   "name": "ruta"
  },
  "language_info": {
   "codemirror_mode": "ruta",
   "file_extension": ".ruta",
   "mimetype": "text/ruta",
   "name": "UIMA Ruta",
   "pygments_lexer": "ruta",
   "version": "3.1.0"
  }
 },
 "nbformat": 4,
 "nbformat_minor": 4
}
