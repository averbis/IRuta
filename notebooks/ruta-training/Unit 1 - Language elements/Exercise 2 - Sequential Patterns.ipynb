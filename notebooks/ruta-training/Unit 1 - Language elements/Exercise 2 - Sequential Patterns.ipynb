{
 "cells": [
  {
   "cell_type": "markdown",
   "metadata": {},
   "source": [
    "# Exercise 2: Sequential Patterns\n",
    "\n",
    "This execise provides an introduction to how annotations are combined in sequential patterns."
   ]
  },
  {
   "cell_type": "markdown",
   "metadata": {},
   "source": [
    "First, we define some input text for the following examples."
   ]
  },
  {
   "cell_type": "code",
   "execution_count": null,
   "metadata": {},
   "outputs": [],
   "source": [
    "%%documentText\n",
    "The dog barked at the cat.\n",
    "Dogs, cats and mice are mammals.\n",
    "Zander and tuna are fishes.\n",
    "This text was created approx. on 13.04.2021."
   ]
  },
  {
   "cell_type": "markdown",
   "metadata": {},
   "source": [
    "Then, we provide some initial Animal annotations using an dictionary."
   ]
  },
  {
   "cell_type": "code",
   "execution_count": null,
   "metadata": {},
   "outputs": [],
   "source": [
    "DECLARE Animal;\n",
    "WORDLIST AnimalList = 'animals.txt';\n",
    "MARKFAST(Animal, AnimalList, true);"
   ]
  },
  {
   "cell_type": "markdown",
   "metadata": {},
   "source": [
    "Declare a new annotation type \"AnimalEnum\" and annotate enumerations of animals using a composed rule elements and the quantifier \"+\" or \"*\"."
   ]
  },
  {
   "cell_type": "code",
   "execution_count": null,
   "metadata": {},
   "outputs": [],
   "source": [
    "DECLARE AnimalEnum;\n",
    "(Animal (COMMA Animal)* ANY+{OR(IS(COMMA),REGEXP(\"and|or\"))} Animal){-> AnimalEnum};\n",
    "\n",
    "//COLOR(Animal, \"lightgreen\");\n",
    "COLOR(AnimalEnum, \"pink\");"
   ]
  },
  {
   "cell_type": "markdown",
   "metadata": {},
   "source": [
    "Lets reset the document (CAS) and try something different."
   ]
  },
  {
   "cell_type": "code",
   "execution_count": null,
   "metadata": {},
   "outputs": [],
   "source": [
    "%resetCas"
   ]
  },
  {
   "cell_type": "code",
   "execution_count": null,
   "metadata": {},
   "outputs": [],
   "source": [
    "%%documentText\n",
    "The dog barked at the cat.\n",
    "Dogs, cats and mice are mammals.\n",
    "Zander and tuna are fishes.\n",
    "This text was created approx. on 13.04.2021."
   ]
  },
  {
   "cell_type": "markdown",
   "metadata": {},
   "source": [
    " Declare a new annotation type \"Sentence\" and create a Sentence annotation for each sentence in the input document."
   ]
  },
  {
   "cell_type": "code",
   "execution_count": null,
   "metadata": {},
   "outputs": [],
   "source": [
    "// Lets also switch to a different output display mode\n",
    "%displayMode CSV\n",
    "%csvConfig Sentence\n",
    "DECLARE Sentence;\n",
    "\n",
    "((# PERIOD){-PARTOF(Sentence)-> Sentence})+;"
   ]
  },
  {
   "cell_type": "markdown",
   "metadata": {},
   "source": [
    "This initial try to annotate sentence has several problems. Let's introduce a \"helper\" annotation for sentence ends and improve the resulting annotations."
   ]
  },
  {
   "cell_type": "code",
   "execution_count": null,
   "metadata": {},
   "outputs": [],
   "source": [
    "// remove all sentences\n",
    "s:Sentence{-> UNMARK(s)};\n",
    "\n",
    "DECLARE SentenceEnd;\n",
    "// a period is a sentence end if it is not followed by a number or a small writtern word.\n",
    "PERIOD{-> SentenceEnd} _{-PARTOF(NUM), -PARTOF(SW)};\n",
    "\n",
    "// two simple rules are somtimes better (clearer/faster) than one complex rule.\n",
    "(# SentenceEnd){-> Sentence};\n",
    "SentenceEnd (# SentenceEnd){-> Sentence};"
   ]
  },
  {
   "cell_type": "markdown",
   "metadata": {},
   "source": [
    "Declare four new annotation types: \"Day\", \"Month\", \"Year\" and \"Date\".\n",
    "Create a single rule for detecting dates of the form \"DD.MM.YYYY\". \n",
    "This single rule must create four annotations.\n",
    "A \"Date\" annotation for the complete date mention.\n",
    "A \"Day\" annotation for the two digits of the day.\n",
    "A \"Month\" annotation for the two digits of the month.\n",
    "A \"Year\" annotation for the four digits of the year."
   ]
  },
  {
   "cell_type": "code",
   "execution_count": null,
   "metadata": {},
   "outputs": [],
   "source": [
    "DECLARE Date, Day, Month, Year;\n",
    "\n",
    "(NUM{REGEXP(\"..\")-> Day} PERIOD \n",
    "    NUM{REGEXP(\"..\")-> Month} PERIOD \n",
    "    NUM{REGEXP(\".{4}\")-> Year}){-> Date};\n",
    "\n",
    "COLOR(Day, \"pink\");\n",
    "COLOR(Month, \"lightgreen\");\n",
    "COLOR(Year, \"lightblue\");\n",
    "COLOR(Date, \"lightgrey\");"
   ]
  }
 ],
 "metadata": {
  "kernelspec": {
   "display_name": "UIMA Ruta",
   "language": "ruta",
   "name": "ruta"
  },
  "language_info": {
   "codemirror_mode": "ruta",
   "file_extension": ".ruta",
   "mimetype": "text/ruta",
   "name": "UIMA Ruta",
   "pygments_lexer": "ruta",
   "version": "3.0.1"
  }
 },
 "nbformat": 4,
 "nbformat_minor": 4
}
