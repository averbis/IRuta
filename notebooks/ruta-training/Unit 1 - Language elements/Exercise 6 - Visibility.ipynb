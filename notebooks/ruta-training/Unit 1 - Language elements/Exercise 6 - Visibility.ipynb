{
 "cells": [
  {
   "cell_type": "markdown",
   "metadata": {},
   "source": [
    "# Exercise 6: Visibility"
   ]
  },
  {
   "cell_type": "code",
   "execution_count": null,
   "metadata": {},
   "outputs": [],
   "source": [
    "%%documentText\n",
    " The dog barked at the cat.\n",
    "Dogs, cats and mice are mammals.\n",
    " Zander and tuna are fishes.\n",
    "Peter works for Frank. \n",
    " 10€ are less than 100$. "
   ]
  },
  {
   "cell_type": "markdown",
   "metadata": {},
   "source": [
    "The PlainTextAnnotator created Line annotations. Try to create a sentence annotation for each Line annotation, then recap the visibility feature of UIMA Ruta."
   ]
  },
  {
   "cell_type": "code",
   "execution_count": null,
   "metadata": {},
   "outputs": [],
   "source": [
    "%displayMode CSV\n",
    "%csvConfig Line\n",
    "\n",
    "TYPESYSTEM org.apache.uima.ruta.engine.PlainTextTypeSystem;\n",
    "UIMAFIT org.apache.uima.ruta.engine.PlainTextAnnotator;\n",
    "EXEC(PlainTextAnnotator);\n",
    "\n",
    "DECLARE Sentence;\n",
    "\n",
    "Line{-> Sentence};\n",
    "\n",
    "COLOR(Sentence, \"lightgray\");"
   ]
  },
  {
   "cell_type": "markdown",
   "metadata": {},
   "source": [
    "Change the visibility settings so that all lines are annotated with Sentence annotations."
   ]
  },
  {
   "cell_type": "code",
   "execution_count": null,
   "metadata": {},
   "outputs": [],
   "source": [
    "s:Sentence{-> UNMARK(s)};\n",
    "\n",
    "ADDRETAINTYPE(WS);\n",
    "Line{-> Sentence};\n",
    "REMOVERETAINTYPE(WS);\n"
   ]
  },
  {
   "cell_type": "markdown",
   "metadata": {},
   "source": [
    "Make capitalized words invisible and annotate all matchable sentences."
   ]
  },
  {
   "cell_type": "code",
   "execution_count": null,
   "metadata": {},
   "outputs": [],
   "source": [
    "s:Sentence{-> UNMARK(s)};\n",
    "\n",
    "ADDRETAINTYPE(WS);\n",
    "ADDFILTERTYPE(CW);\n",
    "Line{-> Sentence};"
   ]
  },
  {
   "cell_type": "markdown",
   "metadata": {},
   "source": [
    "Create an annotation covering the text passage \"Peter works for Frank. 10€\" with the rule \"(CW NUM SPECIAL){-> Span};\""
   ]
  },
  {
   "cell_type": "code",
   "execution_count": null,
   "metadata": {},
   "outputs": [],
   "source": [
    "%displayMode RUTA_COLORING\n",
    "\n",
    "ADDRETAINTYPE(WS);\n",
    "s:Sentence{-> UNMARK(s)};\n",
    "REMOVERETAINTYPE(WS);\n",
    "\n",
    "DECLARE Span;\n",
    "DECLARE Invisible;\n",
    "\n",
    "ADDFILTERTYPE(Invisible);\n",
    "\n",
    "SW{-> Invisible};\n",
    "(CW PERIOD){-> Invisible};\n",
    "\n",
    "(CW NUM SPECIAL){-> Span};\n",
    "\n",
    "COLOR(Span, \"blue\");"
   ]
  }
 ],
 "metadata": {
  "kernelspec": {
   "display_name": "UIMA Ruta",
   "language": "ruta",
   "name": "ruta"
  },
  "language_info": {
   "codemirror_mode": "ruta",
   "file_extension": ".ruta",
   "mimetype": "text/ruta",
   "name": "UIMA Ruta",
   "pygments_lexer": "ruta",
   "version": "3.0.1"
  }
 },
 "nbformat": 4,
 "nbformat_minor": 4
}
