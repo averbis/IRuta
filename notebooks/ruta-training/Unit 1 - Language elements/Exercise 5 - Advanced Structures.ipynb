{
 "cells": [
  {
   "cell_type": "markdown",
   "metadata": {},
   "source": [
    "# Exercise 5: Advanced Structures\n",
    "\n",
    "This notebook"
   ]
  },
  {
   "cell_type": "code",
   "execution_count": null,
   "metadata": {},
   "outputs": [],
   "source": [
    "%%documentText\n",
    "Peter works for Frank.\n",
    "10€ are less than 100$."
   ]
  },
  {
   "cell_type": "markdown",
   "metadata": {},
   "source": [
    "Annotate all pairs of tokens within sentences (not across sentences) using a BLOCK construct."
   ]
  },
  {
   "cell_type": "code",
   "execution_count": null,
   "metadata": {},
   "outputs": [],
   "source": [
    "%displayMode CSV\n",
    "%csvConfig TokenPair1\n",
    "\n",
    "DECLARE Sentence;\n",
    "(ANY+{-PARTOF(Sentence),-PARTOF(PERIOD)} PERIOD){-> Sentence};\n",
    "\n",
    "DECLARE TokenPair1;\n",
    "\n",
    "BLOCK(sentence) Sentence{}{\n",
    "    (ANY ANY){-> TokenPair1};\n",
    "}"
   ]
  },
  {
   "cell_type": "markdown",
   "metadata": {},
   "source": [
    "Annotate all pairs of tokens within sentences (not across sentences) using an inlined rule."
   ]
  },
  {
   "cell_type": "code",
   "execution_count": null,
   "metadata": {},
   "outputs": [],
   "source": [
    "%csvConfig TokenPair2\n",
    "\n",
    "DECLARE TokenPair2;\n",
    "\n",
    "Sentence->{\n",
    "    (ANY ANY){-> TokenPair2};\n",
    "};"
   ]
  },
  {
   "cell_type": "markdown",
   "metadata": {},
   "source": [
    "Annotate all sentences that contain an WorksFor relation with an employee named \"Peter\"."
   ]
  },
  {
   "cell_type": "code",
   "execution_count": null,
   "metadata": {},
   "outputs": [],
   "source": [
    "%csvConfig SentenceWithRelation\n",
    "DECLARE Employer, Employee;\n",
    "\"Peter\"-> Employee;\n",
    "\"Frank\"-> Employer;\n",
    "\n",
    "DECLARE WorksFor (Employee employee, Employer employer);\n",
    "(e1:Employee # e2:Employer){-> wf:WorksFor, wf.employee=e1, wf.employer=e2};\n",
    "\n",
    "DECLARE SentenceWithRelation;\n",
    "\n",
    "Sentence{-> SentenceWithRelation}\n",
    "    <-{WorksFor.employee.ct==\"Peter\";};\n"
   ]
  },
  {
   "cell_type": "markdown",
   "metadata": {},
   "source": [
    "Annotate all sentences that are followed by a sentence that contains an MoneyAmount in Euro."
   ]
  },
  {
   "cell_type": "code",
   "execution_count": null,
   "metadata": {},
   "outputs": [],
   "source": [
    "%csvConfig SentenceFollowedByMoneySentence\n",
    "DECLARE MoneyAmount(INT amount, STRING currency);\n",
    "INT value;\n",
    "(NUM{PARSE(value)} c:SPECIAL){-> CREATE(MoneyAmount, \"amount\"=value, \"currency\"=c.ct)};\n",
    "\n",
    "DECLARE SentenceFollowedByMoneySentence;\n",
    "\n",
    "Sentence{-> SentenceFollowedByMoneySentence} Sentence<-{MoneyAmount.currency.ct==\"€\";};\n",
    "\n"
   ]
  },
  {
   "cell_type": "markdown",
   "metadata": {},
   "source": [
    "Annotate each word that is either followed or preceded by a small-written word using a FOREACH block."
   ]
  },
  {
   "cell_type": "code",
   "execution_count": null,
   "metadata": {},
   "outputs": [],
   "source": [
    "%displayMode RUTA_COLORING\n",
    "\n",
    "DECLARE Word;\n",
    "\n",
    "FOREACH(w) W{}{\n",
    "    w{->Word} SW;\n",
    "    SW w{-> Word};\n",
    "}\n",
    "\n",
    "COLOR(Word, \"pink\");\n"
   ]
  }
 ],
 "metadata": {
  "kernelspec": {
   "display_name": "UIMA Ruta",
   "language": "ruta",
   "name": "ruta"
  },
  "language_info": {
   "codemirror_mode": "ruta",
   "file_extension": ".ruta",
   "mimetype": "text/ruta",
   "name": "UIMA Ruta",
   "pygments_lexer": "ruta",
   "version": "3.0.1"
  }
 },
 "nbformat": 4,
 "nbformat_minor": 4
}
