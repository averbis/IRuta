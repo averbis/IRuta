{
 "cells": [
  {
   "cell_type": "markdown",
   "metadata": {},
   "source": [
    "# Exercise 5: Blocks and inlined rules\n",
    "\n",
    "This notebook introduces more complex language structures that are able to restrict the matching context or even extend the expressivity of the matching process. "
   ]
  },
  {
   "cell_type": "code",
   "execution_count": null,
   "metadata": {},
   "outputs": [],
   "source": [
    "%%documentText\n",
    "Peter works for Frank.\n",
    "10€ are less than 100$."
   ]
  },
  {
   "cell_type": "markdown",
   "metadata": {},
   "source": [
    "We annotate all pairs of tokens within sentences (not across sentences) using a BLOCK construct. BLOCKs can also be used as an if statement, as a loop (including recursion), as named procedures and more."
   ]
  },
  {
   "cell_type": "code",
   "execution_count": null,
   "metadata": {},
   "outputs": [],
   "source": [
    "%displayMode CSV\n",
    "%csvConfig TokenPair1\n",
    "\n",
    "DECLARE Sentence;\n",
    "(ANY+{-PARTOF(Sentence),-PARTOF(PERIOD)} PERIOD){-> Sentence};\n",
    "\n",
    "DECLARE TokenPair1;\n",
    "\n",
    "BLOCK(sentence) Sentence{}{\n",
    "    (ANY ANY){-> TokenPair1};\n",
    "}"
   ]
  },
  {
   "cell_type": "markdown",
   "metadata": {},
   "source": [
    "We do the same using an inlined rule as action. Inlined rules as action indicated by \"->\" after the rule element can apply additional rules within the scope of the match of a rule element if the complete rule matched successfully."
   ]
  },
  {
   "cell_type": "code",
   "execution_count": null,
   "metadata": {},
   "outputs": [],
   "source": [
    "%csvConfig TokenPair2\n",
    "\n",
    "DECLARE TokenPair2;\n",
    "\n",
    "Sentence->{\n",
    "    (ANY ANY){-> TokenPair2};\n",
    "};"
   ]
  },
  {
   "cell_type": "markdown",
   "metadata": {},
   "source": [
    "In the next example, we use the block like an if statement."
   ]
  },
  {
   "cell_type": "code",
   "execution_count": null,
   "metadata": {},
   "outputs": [],
   "source": [
    "%csvConfig TokenPair2\n",
    "\n",
    "DECLARE TokenPair3;\n",
    "\n",
    "// only in documents that contain numbers\n",
    "BLOCK(sentence) Document{CONTAINS(NUM)}{\n",
    "    Sentence->{\n",
    "        (ANY ANY){-> TokenPair3};\n",
    "    };\n",
    "}"
   ]
  },
  {
   "cell_type": "markdown",
   "metadata": {},
   "source": [
    "Next, we annotate all sentences that contain an WorksFor relation with an employee named \"Peter\". Complex conditions like these can be specified using inlined rules as condition. Rule elements extended with these inlined rules indicated with \"<-\" only match if at least one rule within the inlined block is able to match."
   ]
  },
  {
   "cell_type": "code",
   "execution_count": null,
   "metadata": {},
   "outputs": [],
   "source": [
    "%csvConfig SentenceWithRelation\n",
    "DECLARE Employer, Employee;\n",
    "\"Peter\"-> Employee;\n",
    "\"Frank\"-> Employer;\n",
    "\n",
    "DECLARE WorksFor (Employee employee, Employer employer);\n",
    "(e1:Employee # e2:Employer){-> wf:WorksFor, wf.employee=e1, wf.employer=e2};\n",
    "\n",
    "DECLARE SentenceWithRelation;\n",
    "\n",
    "Sentence{-> SentenceWithRelation}\n",
    "    <-{WorksFor.employee.ct==\"Peter\";};\n"
   ]
  },
  {
   "cell_type": "markdown",
   "metadata": {},
   "source": [
    "Now, we annotate all sentences that are followed by a sentence that contains a MoneyAmount in Euro. These inlined rules can of course also be used in sequential patterns and they can also be used within other inlined rule blocks. Multiple inlined rule blocks at one rule element are also supported. If multiple inlined rule as condition block are given at one rule element at least one rule in each of them needs to be able to match, i.e. they specify a conjunction."
   ]
  },
  {
   "cell_type": "code",
   "execution_count": null,
   "metadata": {},
   "outputs": [],
   "source": [
    "%csvConfig SentenceFollowedByMoneySentence\n",
    "DECLARE MoneyAmount(INT amount, STRING currency);\n",
    "INT value;\n",
    "(NUM{PARSE(value)} c:SPECIAL){-> CREATE(MoneyAmount, \"amount\"=value, \"currency\"=c.ct)};\n",
    "\n",
    "DECLARE SentenceFollowedByMoneySentence;\n",
    "\n",
    "Sentence{-> SentenceFollowedByMoneySentence} Sentence<-{MoneyAmount.currency.ct==\"€\";};\n"
   ]
  },
  {
   "cell_type": "markdown",
   "metadata": {},
   "source": [
    "We annotate each word that is either followed or preceded by a small-written word using a FOREACH block. The FOREACH block is a special block, which assigns the annotation matched by the head rule to a temporary variables. This annoations variable can be used with the block. The FOREACH block does not restrict the window for the contained rules. The FOREACH block is very similar to a loop over a defined set of annotations. It iterates from left to right, but can also iterate from right to left given an additional argument. This block constuct can be used for more efficient rule executions (like a simple FST automata) since the variable can be matched directly without iterating over the index anew."
   ]
  },
  {
   "cell_type": "code",
   "execution_count": null,
   "metadata": {},
   "outputs": [],
   "source": [
    "%displayMode RUTA_COLORING\n",
    "\n",
    "DECLARE Word;\n",
    "\n",
    "FOREACH(w) W{}{\n",
    "    w{->Word} SW;\n",
    "    SW w{-> Word};\n",
    "}\n",
    "\n",
    "COLOR(Word, \"pink\");\n"
   ]
  }
 ],
 "metadata": {
  "kernelspec": {
   "display_name": "UIMA Ruta",
   "language": "ruta",
   "name": "ruta"
  },
  "language_info": {
   "codemirror_mode": "ruta",
   "file_extension": ".ruta",
   "mimetype": "text/ruta",
   "name": "UIMA Ruta",
   "pygments_lexer": "ruta",
   "version": "3.0.1"
  }
 },
 "nbformat": 4,
 "nbformat_minor": 4
}
