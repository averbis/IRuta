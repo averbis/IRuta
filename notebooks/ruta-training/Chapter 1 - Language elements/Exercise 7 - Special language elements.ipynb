{
 "cells": [
  {
   "cell_type": "markdown",
   "metadata": {},
   "source": [
    "# Exercise 7: Special language elements\n",
    "\n",
    "This notebook introduces or discusses some special language elements. These elements have maybe already been used in the previous notebooks, but get a separate example here."
   ]
  },
  {
   "cell_type": "markdown",
   "metadata": {},
   "source": [
    "### Regex rules"
   ]
  },
  {
   "cell_type": "markdown",
   "metadata": {},
   "source": [
    "Simple regex rules are a kind of special rules in UIMA Ruta. These rules do not build upon a sequence of rule elements with matching condition but on a single regular expression. This regular expression is applied in the document or the current window (if it is restricted). This enables two interesting use cases for these rules: adding some annotations for fast prototyping and creating smaller annotations that could not be matched with normal rules."
   ]
  },
  {
   "cell_type": "code",
   "execution_count": null,
   "metadata": {},
   "outputs": [],
   "source": [
    "%documentText \"This is the first line.\"\n",
    "%displayMode DYNAMIC_HTML\n",
    "%dynamicHtmlAllowedTypes In1 In2 In3 Span Start\n",
    "DECLARE In1, In2, In3;\n",
    "\n",
    "// this won't match because any matching condition relies on existing annotations and there is no annotation on \n",
    "// \"in\", only on \"line\"\n",
    "\"in\"{-> In1};\n",
    "\n",
    "// this will match within a token since regex rules do not care about existing annotations\n",
    "\"in\"-> In2;\n",
    "\n",
    "// this will match because a basis annoation In2 is now present\n",
    "\"in\"{-> In3};\n",
    "\n",
    "DECLARE Span, Start;\n",
    "\n",
    "// complex regular expression: create Span for the complete match and Start for the first group\n",
    "\"(is).*first\" -> Span, 1 = Start;"
   ]
  },
  {
   "cell_type": "markdown",
   "metadata": {},
   "source": [
    "### Optional matching condition `_`"
   ]
  },
  {
   "cell_type": "markdown",
   "metadata": {},
   "source": [
    "The optional matching condition _ allows to specify rule elements that are completely optional. They are fulfilled even if they are not able to match at all."
   ]
  },
  {
   "cell_type": "code",
   "execution_count": null,
   "metadata": {},
   "outputs": [],
   "source": [
    "%resetCas\n",
    "%documentText \"This is the first line.\"\n",
    "%displayMode RUTA_COLORING\n",
    "DECLARE NotBeforeNum1, NotBeforeNum2;\n",
    "\n",
    "// this rule requires some position for the second rule element\n",
    "ANY{->NotBeforeNum1} ANY{-PARTOF(NUM)};\n",
    "// this rule is also able to match on the last period\n",
    "ANY{->NotBeforeNum2} _{-PARTOF(NUM)};\n",
    "\n",
    "COLOR(NotBeforeNum1, \"pink\");\n",
    "COLOR(NotBeforeNum2, \"yellow\");"
   ]
  },
  {
   "cell_type": "markdown",
   "metadata": {},
   "source": [
    "### The anchor `@`"
   ]
  },
  {
   "cell_type": "code",
   "execution_count": null,
   "metadata": {},
   "outputs": [],
   "source": [
    "%resetCas"
   ]
  },
  {
   "cell_type": "code",
   "execution_count": null,
   "metadata": {},
   "outputs": [],
   "source": [
    "%%documentText\n",
    "This is the first line.\n",
    "This is the second line.\n",
    "This is the third line.\n",
    "This is the fourth line.\n",
    "This is the fifth line."
   ]
  },
  {
   "cell_type": "markdown",
   "metadata": {},
   "source": [
    "The anchor `@` specifies the start point of the matching process of a rule. Normally, a rule matches from left to right starting with the first rule element and continuing with the second and so on. The anchor can be used to write more efficient rules by selecting a more suitable rule element."
   ]
  },
  {
   "cell_type": "code",
   "execution_count": null,
   "metadata": {},
   "outputs": [],
   "source": [
    "DECLARE WPeriod1, WPeriod2;\n",
    "\n",
    "// a normal rule: look at each W, then check if there is a period afterwards\n",
    "// this results in 25 matches in the W index and 25 checks on the next position.\n",
    "W{-> WPeriod1} PERIOD;\n",
    "\n",
    "// we start at the period and check on the W before it\n",
    "// this results in 5 matches in the PERIOD index and 5 checks on the previous postion.\n",
    "W{-> WPeriod2} @PERIOD;\n",
    "\n",
    "COLOR(WPeriod2, \"pink\");"
   ]
  },
  {
   "cell_type": "markdown",
   "metadata": {},
   "source": [
    "The selection of the anchor can also change the outcome as the anchoring iterator initially defined the amount of rule matches, and the actions are applied for each rule match."
   ]
  },
  {
   "cell_type": "code",
   "execution_count": null,
   "metadata": {},
   "outputs": [],
   "source": [
    "%displayMode CSV\n",
    "%csvConfig Span1\n",
    "\n",
    "DECLARE Span1;\n",
    "W+{-> Span1} PERIOD;"
   ]
  },
  {
   "cell_type": "code",
   "execution_count": null,
   "metadata": {},
   "outputs": [],
   "source": [
    "%displayMode CSV\n",
    "%csvConfig Span2\n",
    "\n",
    "DECLARE Span2;\n",
    "W+{-> Span2} @PERIOD;"
   ]
  },
  {
   "cell_type": "markdown",
   "metadata": {},
   "source": [
    "### The wildcard element `#`"
   ]
  },
  {
   "cell_type": "markdown",
   "metadata": {},
   "source": [
    "The wildcard \"#\" can be described as \"I do not care\". This matching condition of a rule element does not match itself but considers the next rule element and assigns its matching span according to a valid match of the next element. A similar behavior can be specified using a general annotation type like `ANY` in combination with a reluctant quantifier. However, the wildcard can span long distances more efficiently since it does not explicitly match on any annotations like ANY.\n",
    "\n"
   ]
  },
  {
   "cell_type": "code",
   "execution_count": null,
   "metadata": {},
   "outputs": [],
   "source": [
    "%displayMode RUTA_COLORING\n",
    "\n",
    "DECLARE Span3, Span4;\n",
    "\n",
    "// just start matching up to the first period\n",
    "#{-> Span3} PERIOD;\n",
    "\n",
    "// match from the word \"fourth\" to the next period before\n",
    "(PERIOD # @\"fourth\"){-> Span4};\n",
    "\n",
    "\n",
    "COLOR(Span3, \"lightgreen\");\n",
    "COLOR(Span4, \"red\");"
   ]
  },
  {
   "cell_type": "markdown",
   "metadata": {},
   "source": [
    "### Conjunctive and disjunctive composed rule elements using `&` and `|`"
   ]
  },
  {
   "cell_type": "markdown",
   "metadata": {},
   "source": [
    "In the following example, we take a look at conjunctive and disjunctive composed rule elements. These rule element should be used with care or avoided if possible since they produce many matches internally."
   ]
  },
  {
   "cell_type": "code",
   "execution_count": null,
   "metadata": {},
   "outputs": [],
   "source": [
    "%resetCas"
   ]
  },
  {
   "cell_type": "code",
   "execution_count": null,
   "metadata": {},
   "outputs": [],
   "source": [
    "%%documentText\n",
    "This is the first line.\n",
    "This is the second line.\n",
    "This is the third line.\n",
    "This is the fourth line.\n",
    "This is the fifth line."
   ]
  },
  {
   "cell_type": "code",
   "execution_count": null,
   "metadata": {},
   "outputs": [],
   "source": [
    "DECLARE Span;\n",
    "\n",
    "PERIOD (# PERIOD){-> Span};\n",
    "\n",
    "DECLARE Conjunctive, Disjunctive;\n",
    "\n",
    "// a position that is any token with the covered text \"is\" AND a word that is part of a Span annotation\n",
    "(ANY{REGEXP(\"is\")} & W{PARTOF(Span)}){-> Conjunctive};\n",
    "\n",
    "// a word that is not part of a Span annoation OR the the word \"fourth\"\n",
    "(W{-PARTOF(Span)} | \"fourth\"){-> Disjunctive};\n",
    "\n",
    "COLOR(Conjunctive, \"lightblue\");\n",
    "COLOR(Disjunctive, \"yellow\");"
   ]
  },
  {
   "cell_type": "markdown",
   "metadata": {},
   "source": [
    "### Conjunction of rules with the operator `%`"
   ]
  },
  {
   "cell_type": "markdown",
   "metadata": {},
   "source": [
    "The next language element is the conjunction of rules with the operator `%`. Here, two rules are combined without sequential constraints. The combination matches if both linked rules are able to match independently of each other. "
   ]
  },
  {
   "cell_type": "code",
   "execution_count": null,
   "metadata": {},
   "outputs": [],
   "source": [
    "DECLARE ConjunctRules;\n",
    "\n",
    "Span{-> ConjunctRules}<-{\n",
    "  // a Conjunctive preceeded by a SW \n",
    "  // and possibly somewhere else within the span\n",
    "  // a Disjunctive followed by an ANY and a PERIOD\n",
    "  SW Conjunctive % Disjunctive ANY PERIOD;  \n",
    "};\n",
    "\n",
    "COLOR(ConjunctRules, \"lightgreen\");"
   ]
  },
  {
   "cell_type": "markdown",
   "metadata": {},
   "source": [
    "### Advanced functionality of type expression"
   ]
  },
  {
   "cell_type": "markdown",
   "metadata": {},
   "source": [
    "Type expression are often used to refer to annotations within a certain matching context. Type expression can also be extended with additional conditions in order to restrict these annotations. This extension can be useful if no new types and annotations should be created to represent the restriction. The rule in the following example assigned all annotations of the type `W` to the feature targets that fulfill two conditions. They either match the regular expression or they are a capitalized word."
   ]
  },
  {
   "cell_type": "code",
   "execution_count": null,
   "metadata": {},
   "outputs": [],
   "source": [
    "%resetCas\n",
    "%documentText \"This is a simple text.\"\n",
    "%displayMode DYNAMIC_HTML\n",
    "%dynamicHtmlAllowedTypes Structure\n",
    "\n",
    "DECLARE Structure (FSArray targets);\n",
    "\n",
    "Document{-> CREATE(Structure, \"targets\" = W{OR(REGEXP(\"simpl.*\"), IS(CW))})};\n"
   ]
  },
  {
   "cell_type": "markdown",
   "metadata": {},
   "source": [
    "### Assigning annotations to a feature structure array"
   ]
  },
  {
   "cell_type": "markdown",
   "metadata": {},
   "source": [
    "UIMA Ruta provides some support for lists and arrays as the previous example already has shown by assigning annotations to a feature structure array. There is also some restricted functionality to access the annotations of a feature structure array separately. In the next example, we use an indexed expression to match on the annotations within the array. "
   ]
  },
  {
   "cell_type": "code",
   "execution_count": null,
   "metadata": {
    "scrolled": true
   },
   "outputs": [],
   "source": [
    "DECLARE First, Second;\n",
    "\n",
    "%dynamicHtmlAllowedTypes Structure First Second\n",
    "\n",
    "Structure.targets[0]{-> First};\n",
    "Structure.targets[1]{-> Second};"
   ]
  }
 ],
 "metadata": {
  "kernelspec": {
   "display_name": "UIMA Ruta",
   "language": "ruta",
   "name": "ruta"
  },
  "language_info": {
   "codemirror_mode": "ruta",
   "file_extension": ".ruta",
   "mimetype": "text/ruta",
   "name": "UIMA Ruta",
   "pygments_lexer": "ruta",
   "version": "3.1.0"
  }
 },
 "nbformat": 4,
 "nbformat_minor": 4
}
