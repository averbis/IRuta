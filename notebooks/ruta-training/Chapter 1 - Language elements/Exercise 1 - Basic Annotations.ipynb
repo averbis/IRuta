{
 "cells": [
  {
   "cell_type": "markdown",
   "metadata": {},
   "source": [
    "# Exercise 1: Basic Annotations\n",
    "\n",
    "This execise provides an introduction to how simple annotations are created."
   ]
  },
  {
   "cell_type": "markdown",
   "metadata": {},
   "source": [
    "First, we define some input text for the following examples."
   ]
  },
  {
   "cell_type": "code",
   "execution_count": null,
   "metadata": {},
   "outputs": [],
   "source": [
    "%%documentText\n",
    "The dog barked at the cat.\n",
    "Dogs, cats and mice are mammals.\n",
    "Zander and tuna are fishes."
   ]
  },
  {
   "cell_type": "markdown",
   "metadata": {},
   "source": [
    "Now, declare a new type for Animal annotations, i.e. annotations pointing to a span covering animal mentions."
   ]
  },
  {
   "cell_type": "code",
   "execution_count": null,
   "metadata": {},
   "outputs": [],
   "source": [
    "DECLARE Animal;\n",
    "\n",
    "// highlight Animal annotation in the following output\n",
    "COLOR(Animal, \"lightgreen\");"
   ]
  },
  {
   "cell_type": "markdown",
   "metadata": {},
   "source": [
    "We annotate mentions of animals by checking the covered text of an annotation. We use an implicit action, i.e. just the targeted type, in order to create the annotation. This is a short form for \"MARK(Anmimal)\"."
   ]
  },
  {
   "cell_type": "code",
   "execution_count": null,
   "metadata": {},
   "outputs": [],
   "source": [
    "// directly match on the string \"dog\"\n",
    "\"dog\"{-> Animal};\n",
    "\n",
    "// match on any word (W) and check its covered text (ct)\n",
    "W.ct==\"cat\"{-> Animal};\n",
    "\n",
    "// match on any seeding token (ANY) and check its covered text using a regular expression\n",
    "ANY{REGEXP(\"Dogs?|cats?\", true)-> Animal};\n",
    "\n",
    "// match on any word (W), remember this annotation using the label \"w\" \n",
    "// and check its covered text (ct) in a condition\n",
    "w:W{w.ct == \"mice\" -> Animal};"
   ]
  },
  {
   "cell_type": "markdown",
   "metadata": {},
   "source": [
    "Now, we annotate mentions of animals by using a wordlist, a simple external dictionary file."
   ]
  },
  {
   "cell_type": "code",
   "execution_count": null,
   "metadata": {},
   "outputs": [],
   "source": [
    "// define the extenral text file as wordlist dictionary\n",
    "WORDLIST fishList = \"fishes.txt\";\n",
    "// perform case insensitive dictionary lookup for fishes and \n",
    "// annotate them with the type Animal\n",
    "MARKFAST(Animal, fishList, true);"
   ]
  },
  {
   "cell_type": "markdown",
   "metadata": {},
   "source": [
    "Next, we annotate a mention of an animal with a simple regexp rule."
   ]
  },
  {
   "cell_type": "code",
   "execution_count": null,
   "metadata": {},
   "outputs": [],
   "source": [
    "\"mammals?\" -> Animal;"
   ]
  },
  {
   "cell_type": "markdown",
   "metadata": {},
   "source": [
    "Simple regexp rules are not normal rules as they do not rely on existing annoations but match directly on the document and thus also ignore boundaries of annotations. Please mind the different syntax as no curly brackets are used."
   ]
  }
 ],
 "metadata": {
  "kernelspec": {
   "display_name": "UIMA Ruta",
   "language": "ruta",
   "name": "ruta"
  },
  "language_info": {
   "codemirror_mode": "ruta",
   "file_extension": ".ruta",
   "mimetype": "text/ruta",
   "name": "UIMA Ruta",
   "pygments_lexer": "ruta",
   "version": "3.0.1"
  }
 },
 "nbformat": 4,
 "nbformat_minor": 4
}
