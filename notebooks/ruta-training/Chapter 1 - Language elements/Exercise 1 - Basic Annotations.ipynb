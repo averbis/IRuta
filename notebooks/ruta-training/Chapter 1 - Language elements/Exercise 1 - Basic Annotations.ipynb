{
 "cells": [
  {
   "cell_type": "markdown",
   "metadata": {},
   "source": [
    "# Exercise 1: Basic Annotations\n",
    "\n",
    "This exercise provides an introduction to the basic ruta types and how simple annotations are created."
   ]
  },
  {
   "cell_type": "markdown",
   "metadata": {},
   "source": [
    "#### Defining the document text"
   ]
  },
  {
   "cell_type": "markdown",
   "metadata": {},
   "source": [
    "First, we define some input text for the following examples. In UIMA, this document text is also called **S**ubject **of** **A**nalysis (**SOFA**)."
   ]
  },
  {
   "cell_type": "code",
   "execution_count": null,
   "metadata": {},
   "outputs": [],
   "source": [
    "%%documentText\n",
    "The dog barked at the cat.\n",
    "Dogs, cats and mice are mammals.\n",
    "Zander and tuna are fishes."
   ]
  },
  {
   "cell_type": "markdown",
   "metadata": {},
   "source": [
    "### Types\n",
    "\n",
    "A central component in UIMA is the `TypeSystem`. A TypeSystem contains a list of `Types`. Each Type has a distinct name and optionally a list of features. This determines how the information is stored."
   ]
  },
  {
   "cell_type": "markdown",
   "metadata": {},
   "source": [
    "#### Ruta Basic Types\n",
    "\n",
    "Ruta provides some initial annotations that are automatically generated for each document. Important Ruta Basic Types are:\n",
    "* `ANY`: Any single Token, e.g. “hello” or “123”\n",
    "* `W`: Any word, e.g. “hello”\n",
    "* `NUM`: Any number, e.g. “123”\n",
    "* `SPECIAL`: Any special character, e.g. “-”\n",
    "* `COMMA` (,) `COLON` (:) `SEMICOLON` (;) `PERIOD` (.) `EXCLAMATION` (!) `QUESTION` (?)"
   ]
  },
  {
   "cell_type": "markdown",
   "metadata": {},
   "source": [
    "#### Declaring a new Type\n",
    "\n",
    "We can also declare new types using the `DECLARE` command. In the following, we define a new type `Animal`. With that, we can create annotations that will contain information about mentionings of animals in the text."
   ]
  },
  {
   "cell_type": "code",
   "execution_count": null,
   "metadata": {},
   "outputs": [],
   "source": [
    "DECLARE Animal;\n",
    "\n",
    "// Highlight Animal annotation in the following output\n",
    "COLOR(Animal, \"lightgreen\");"
   ]
  },
  {
   "cell_type": "markdown",
   "metadata": {},
   "source": [
    "### Creating annotations\n",
    "In the following, we present different options that can be used to create new annotations of type Animal. "
   ]
  },
  {
   "cell_type": "markdown",
   "metadata": {},
   "source": [
    "#### Option 1: Direct string matching\n",
    "The following line creates a new annotation of type `Animal` on all occurrences of \"dog\" in the document. Please note that this literal string matching may be inefficient if it is used repeatedly and for large documents."
   ]
  },
  {
   "cell_type": "code",
   "execution_count": null,
   "metadata": {},
   "outputs": [],
   "source": [
    "\"dog\" {-> Animal};"
   ]
  },
  {
   "cell_type": "markdown",
   "metadata": {},
   "source": [
    "#### Option 2: General approach using a condition-action block\n",
    "\n",
    "While the simple string matching in option 1 may be useful for quickly annotating simple keywords, Ruta provides a more powerful logic for complex annotations. The following line illustrates the most basic form of a condition-action."
   ]
  },
  {
   "cell_type": "code",
   "execution_count": null,
   "metadata": {},
   "outputs": [],
   "source": [
    "W{REGEXP(\"Dogs|cats\") -> Animal};"
   ]
  },
  {
   "cell_type": "markdown",
   "metadata": {},
   "source": [
    "**Explanation**: The rule starts with the Ruta basic type `W` that iterates over all words in the document. For each word, it is checked whether the condition `REGEXP(\"Dogs|cats\")` is satisfied. This condition is a regular expression that matches if the word is \"Dogs\" or \"cats\" (case sensitive). If the condition is satisfied, then the action is executed. In that case, the action is to create a new annotation of type `Animal`. You will see more complex conditions and actions in Exercise 4.\n",
    "\n",
    "*Hint*: Please note that \"dog\" is still highlighted as the annotations are kept across cells."
   ]
  },
  {
   "cell_type": "markdown",
   "metadata": {},
   "source": [
    "An example for a slightly different action block is given below. It matches on any word (W) and references it with the label \"w\". Then it checks whether its covered text (ct) is \"mice\" in the condition, and if yes, then it creates a new Animal annotation."
   ]
  },
  {
   "cell_type": "code",
   "execution_count": null,
   "metadata": {},
   "outputs": [],
   "source": [
    "w:W{w.ct == \"mice\" -> Animal};"
   ]
  },
  {
   "cell_type": "markdown",
   "metadata": {},
   "source": [
    "#### Option 3: Using a wordlist\n",
    "\n",
    "If many terms should be annotated, it is useful to place the words in a wordlist. The following snippet shows how we can annotate mentions of fishes by using a wordlist `fishes.txt`, a simple external dictionary file."
   ]
  },
  {
   "cell_type": "code",
   "execution_count": null,
   "metadata": {},
   "outputs": [],
   "source": [
    "WORDLIST fishList = \"resources/fishes.txt\";\n",
    "// Perform lookup for fishes and annotate them with the type Animal\n",
    "// The third parameter specifies whether the lookup should be case insensitive.\n",
    "MARKFAST(Animal, fishList, true);"
   ]
  }
 ],
 "metadata": {
  "kernelspec": {
   "display_name": "UIMA Ruta",
   "language": "ruta",
   "name": "ruta"
  },
  "language_info": {
   "codemirror_mode": "ruta",
   "file_extension": ".ruta",
   "mimetype": "text/ruta",
   "name": "UIMA Ruta",
   "pygments_lexer": "ruta",
   "version": "3.1.0"
  }
 },
 "nbformat": 4,
 "nbformat_minor": 4
}
