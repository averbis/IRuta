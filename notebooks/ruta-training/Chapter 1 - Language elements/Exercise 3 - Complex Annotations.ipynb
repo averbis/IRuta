{
 "cells": [
  {
   "cell_type": "markdown",
   "metadata": {},
   "source": [
    "# Exercise 3: Complex Annotations\n",
    "\n",
    "This execise provides an introduction to more complex annotations with features."
   ]
  },
  {
   "cell_type": "markdown",
   "metadata": {},
   "source": [
    "First, we define some input text for the following examples."
   ]
  },
  {
   "cell_type": "code",
   "execution_count": null,
   "metadata": {},
   "outputs": [],
   "source": [
    "%%documentText\n",
    "Peter works for Frank.\n",
    "10€ are less than 100$."
   ]
  },
  {
   "cell_type": "markdown",
   "metadata": {},
   "source": [
    "We declare a new annotation type \"WorksFor\" with the two features \"employee\" and \"employer\" of a suitable type.\n",
    "Then, we create WorksFor annotations with feature values using different approaches."
   ]
  },
  {
   "cell_type": "code",
   "execution_count": null,
   "metadata": {},
   "outputs": [],
   "source": [
    "// switching display mode for inspecting feature values.\n",
    "%displayMode DYNAMIC_HTML\n",
    "%dynamicHtmlAllowedTypes WorksFor Employee Employer\n",
    "\n",
    "DECLARE Employer, Employee;\n",
    "\"Peter\"-> Employee;\n",
    "\"Frank\"-> Employer;\n",
    "\n",
    "DECLARE WorksFor (Employee employee, Employer employer);\n",
    "\n",
    "// CREATE is able to assin feature values\n",
    "(Employee # Employer){-> CREATE(WorksFor, \"employee\"=Employee, \"employer\"=Employer)};\n",
    "// GATHER can use the index of a rule element for the assignment\n",
    "Employee # Employer{-> GATHER(WorksFor, \"employee\"=1, \"employer\"=3)};\n",
    "// we can also using implicit actions for this task\n",
    "(e1:Employee # e2:Employer){-> wf:WorksFor, wf.employee=e1, wf.employer=e2};"
   ]
  },
  {
   "cell_type": "markdown",
   "metadata": {},
   "source": [
    "Now we declare a new annotation type \"MoneyAmount\" with an INT feature \"amount\" and a STRING feature \"currency\".\n",
    "We create annotations for mentions of amounts of money and fill the features with correct values."
   ]
  },
  {
   "cell_type": "code",
   "execution_count": null,
   "metadata": {},
   "outputs": [],
   "source": [
    "%dynamicHtmlAllowedTypes MoneyAmount\n",
    "\n",
    "DECLARE MoneyAmount(INT amount, STRING currency);\n",
    "// we need a variable for the PARSE condition, for storing the parsing result.\n",
    "INT value;\n",
    "(NUM{PARSE(value)} c:SPECIAL){-> CREATE(MoneyAmount, \"amount\"=value, \"currency\"=c.ct)};"
   ]
  }
 ],
 "metadata": {
  "kernelspec": {
   "display_name": "UIMA Ruta",
   "language": "ruta",
   "name": "ruta"
  },
  "language_info": {
   "codemirror_mode": "ruta",
   "file_extension": ".ruta",
   "mimetype": "text/ruta",
   "name": "UIMA Ruta",
   "pygments_lexer": "ruta",
   "version": "3.0.1"
  }
 },
 "nbformat": 4,
 "nbformat_minor": 4
}
