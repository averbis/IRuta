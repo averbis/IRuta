{
 "cells": [
  {
   "cell_type": "markdown",
   "metadata": {},
   "source": [
    "# Exercise 3: Complex Annotations\n",
    "\n",
    "This exercise provides an introduction to more complex annotations with features."
   ]
  },
  {
   "cell_type": "markdown",
   "metadata": {},
   "source": [
    "#### Setup"
   ]
  },
  {
   "cell_type": "markdown",
   "metadata": {},
   "source": [
    "First, we define some input text for the following examples."
   ]
  },
  {
   "cell_type": "code",
   "execution_count": null,
   "metadata": {},
   "outputs": [],
   "source": [
    "%%documentText\n",
    "Peter works for Frank.\n",
    "10€ are less than 100$."
   ]
  },
  {
   "cell_type": "code",
   "execution_count": null,
   "metadata": {},
   "outputs": [],
   "source": [
    "DECLARE Employer, Employee;\n",
    "\"Peter\"-> Employee;\n",
    "\"Frank\"-> Employer;"
   ]
  },
  {
   "cell_type": "markdown",
   "metadata": {},
   "source": [
    "### Complex Annoations"
   ]
  },
  {
   "cell_type": "markdown",
   "metadata": {},
   "source": [
    "We declare a new annotation type `WorksFor` with the two features `Employee` and `Employer` of a suitable type.\n",
    "Then, we create `WorksFor` annotations with feature values using three different approaches."
   ]
  },
  {
   "cell_type": "code",
   "execution_count": null,
   "metadata": {},
   "outputs": [],
   "source": [
    "// Switching display mode for inspecting feature values.\n",
    "%displayMode DYNAMIC_HTML\n",
    "%dynamicHtmlAllowedTypes WorksFor Employee Employer\n",
    "\n",
    "DECLARE WorksFor (Employee employee, Employer employer);\n",
    "\n",
    "// Approach 1: CREATE is able to assign feature values by directly referencing the Type\n",
    "(Employee # Employer){-> CREATE(WorksFor, \"employee\"=Employee, \"employer\"=Employer)};\n",
    "\n",
    "// Approach 2: GATHER can use the index of a rule element for the assignment\n",
    "// Employee (index=1), Wildcard (#) (index=2), Employer (index=3)\n",
    "Employee # Employer{-> GATHER(WorksFor, \"employee\"=1, \"employer\"=3)};\n",
    "\n",
    "// Approach 3: We can also use an implicit action for this task\n",
    "(e1:Employee # e2:Employer){-> wf:WorksFor, wf.employee=e1, wf.employer=e2};"
   ]
  },
  {
   "cell_type": "markdown",
   "metadata": {},
   "source": [
    "Now we declare a new annotation type `MoneyAmount` with an INT feature `amount` and a STRING feature `currency`.\n",
    "We create annotations for mentions of amounts of money and fill the features with correct values. `PARSE` is used to parse the number as an Integer."
   ]
  },
  {
   "cell_type": "code",
   "execution_count": null,
   "metadata": {},
   "outputs": [],
   "source": [
    "%displayMode DYNAMIC_HTML\n",
    "%dynamicHtmlAllowedTypes Currency MoneyAmount\n",
    "\n",
    "// Helper type for currencies\n",
    "DECLARE Currency;\n",
    "\"$\" {-> Currency};\n",
    "\"€\" {-> Currency};\n",
    "\n",
    "DECLARE MoneyAmount(INT amount, STRING currency);\n",
    "// We need a variable for the PARSE condition, i.e. for storing the amount as integer.\n",
    "INT value;\n",
    "(NUM{PARSE(value)} c:Currency){-> CREATE(MoneyAmount, \"amount\"=value, \"currency\"=c.ct)};"
   ]
  }
 ],
 "metadata": {
  "kernelspec": {
   "display_name": "UIMA Ruta",
   "language": "ruta",
   "name": "ruta"
  },
  "language_info": {
   "codemirror_mode": "ruta",
   "file_extension": ".ruta",
   "mimetype": "text/ruta",
   "name": "UIMA Ruta",
   "pygments_lexer": "ruta",
   "version": "3.1.0"
  }
 },
 "nbformat": 4,
 "nbformat_minor": 4
}
