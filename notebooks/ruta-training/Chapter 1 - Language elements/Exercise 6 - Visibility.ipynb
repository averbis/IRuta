{
 "cells": [
  {
   "cell_type": "markdown",
   "metadata": {},
   "source": [
    "# Exercise 6: Visibility\n",
    "\n",
    "This notebook provides an introduction to a very powerful (and dangerous) feature in the UIMA Ruta language, its coverage-based visibility concept."
   ]
  },
  {
   "cell_type": "markdown",
   "metadata": {},
   "source": [
    "### Visibility: A motivating example"
   ]
  },
  {
   "cell_type": "markdown",
   "metadata": {},
   "source": [
    "So far, we have totally ignored the existence of whitespaces. By default, whitespaces (`WS`) and line breaks are invisible and hence, we did not care about them in our rules. Suppose now that we want our rules to be more specific. Consider the following text where there is an amount of money with currency symbol with and without whitespace."
   ]
  },
  {
   "cell_type": "code",
   "execution_count": null,
   "metadata": {},
   "outputs": [],
   "source": [
    "%%documentText \n",
    "10 € are less than 100€."
   ]
  },
  {
   "cell_type": "markdown",
   "metadata": {},
   "source": [
    "The action `ADDRETAINTYPE` can be used to activate the visibility of invisible types. In this example, we use it to activate the visibility of whitespaces. The following rule now only matches if there is **no** whitespace between the number and the currency symbol."
   ]
  },
  {
   "cell_type": "code",
   "execution_count": null,
   "metadata": {},
   "outputs": [],
   "source": [
    "ADDRETAINTYPE(WS);\n",
    "DECLARE MoneyWithoutWS;\n",
    "(NUM \"€\") {->MoneyWithoutWS};\n",
    "COLOR(MoneyWithoutWS,\"lightgreen\");"
   ]
  },
  {
   "cell_type": "markdown",
   "metadata": {},
   "source": [
    "Similarly, we can write a rule that only matches if there is a whitespace between the number and the currency symbol."
   ]
  },
  {
   "cell_type": "code",
   "execution_count": null,
   "metadata": {},
   "outputs": [],
   "source": [
    "ADDRETAINTYPE(WS);\n",
    "DECLARE MoneyWithWS;\n",
    "(NUM WS \"€\") {->MoneyWithWS};\n",
    "COLOR(MoneyWithWS,\"lightblue\");"
   ]
  },
  {
   "cell_type": "markdown",
   "metadata": {},
   "source": [
    "The ability to modify visibility is very powerful. But it can also lead to unwanted behavior as we will see in the following example."
   ]
  },
  {
   "cell_type": "markdown",
   "metadata": {},
   "source": [
    "### Visibility: How invisible Types can affect annotations"
   ]
  },
  {
   "cell_type": "markdown",
   "metadata": {},
   "source": [
    "It is important to know that **annotations and positions are invisible if their start or end is covered by something invisible.** We will illustrate the consequences with the following example."
   ]
  },
  {
   "cell_type": "markdown",
   "metadata": {},
   "source": [
    "#### Setup"
   ]
  },
  {
   "cell_type": "code",
   "execution_count": null,
   "metadata": {},
   "outputs": [],
   "source": [
    "%resetCas"
   ]
  },
  {
   "cell_type": "code",
   "execution_count": null,
   "metadata": {},
   "outputs": [],
   "source": [
    "%%documentText\n",
    " The dog barked at the cat.\n",
    "Dogs, cats and mice are mammals.\n",
    " Zander and tuna are fishes.\n",
    "Peter works for Frank. \n",
    " 10€ are less than 100€."
   ]
  },
  {
   "cell_type": "markdown",
   "metadata": {},
   "source": [
    "##### Utilizing the external PlainTextAnnotator for annotating lines\n",
    "\n",
    "You can ignore the syntax of the following block for now. Its purpose is to create a `Line` annotation for each line in the given document."
   ]
  },
  {
   "cell_type": "code",
   "execution_count": null,
   "metadata": {},
   "outputs": [],
   "source": [
    "%displayMode CSV\n",
    "%csvConfig Line\n",
    "\n",
    "TYPESYSTEM org.apache.uima.ruta.engine.PlainTextTypeSystem;\n",
    "UIMAFIT org.apache.uima.ruta.engine.PlainTextAnnotator;\n",
    "EXEC(PlainTextAnnotator,{Line});"
   ]
  },
  {
   "cell_type": "markdown",
   "metadata": {},
   "source": [
    "#### An unexpected behaviour?"
   ]
  },
  {
   "cell_type": "markdown",
   "metadata": {},
   "source": [
    "The `Line` annotations look like sentences, however, you might have observed that some lines (1,3,5) start with whitespaces and one line (4) ends with a whitespace. Let us try to create a sentence annotation for each `Line` annotation."
   ]
  },
  {
   "cell_type": "code",
   "execution_count": null,
   "metadata": {},
   "outputs": [],
   "source": [
    "DECLARE Sentence;\n",
    "Line{-> Sentence};\n",
    "COLOR(Sentence, \"lightgreen\");"
   ]
  },
  {
   "cell_type": "markdown",
   "metadata": {},
   "source": [
    "The `Sentence` annotation was only correctly created for line number 2. This is the case because all other lines start or end with a whitespace. As we mentioned before, *annotations and positions are invisible if their start or end is covered by something invisible*. By default, whitespace and line breaks are invisible. \n",
    "\n",
    "Hence, we need to change the visibility to correctly add `Sentence` annotations in this use-case."
   ]
  },
  {
   "cell_type": "markdown",
   "metadata": {},
   "source": [
    "#### Changing the visibility"
   ]
  },
  {
   "cell_type": "markdown",
   "metadata": {},
   "source": [
    "We can change the visibility settings so that all lines are annotated with Sentence annotations. We make all whitespaces (`WS`) visible by using `ADDRETAINTYPE(WS)`. \n",
    "\n",
    "In this notebook, the visibility is not saved across cells. However, it is advised to change the visibility back to the original value (using `REMOVERETAINTYPE(WS)`) because modified visibility can badly affect other rules (see the example in the beginning)."
   ]
  },
  {
   "cell_type": "code",
   "execution_count": null,
   "metadata": {},
   "outputs": [],
   "source": [
    "// Clean-up: Undo the previous sentences\n",
    "s:Sentence{-> UNMARK(s)};\n",
    "\n",
    "ADDRETAINTYPE(WS);\n",
    "Line{-> Sentence};\n",
    "REMOVERETAINTYPE(WS);"
   ]
  },
  {
   "cell_type": "markdown",
   "metadata": {},
   "source": [
    "Next, we make capitalized words invisible and annotate all matchable sentences and see the same effect."
   ]
  },
  {
   "cell_type": "code",
   "execution_count": null,
   "metadata": {},
   "outputs": [],
   "source": [
    "// Clean-up: Undo the previous sentences\n",
    "s:Sentence{-> UNMARK(s)};\n",
    "\n",
    "ADDRETAINTYPE(WS);\n",
    "ADDFILTERTYPE(CW);\n",
    "Line{-> Sentence};"
   ]
  },
  {
   "cell_type": "markdown",
   "metadata": {},
   "source": [
    "### Visibility: Removing visibility of (irrelevant) annotations"
   ]
  },
  {
   "cell_type": "markdown",
   "metadata": {},
   "source": [
    "In the following example, we use the visibility concept to annotate a specific span using a rule that would normally not match. This should illustrate how the visibility concept can be used to hide annotations that we want to ignore in a specific scenario. These annotations may or may not exist — our rules should always match.\n",
    "\n",
    "Imagine that we want to annotate telephone numbers. Unfortunately, numbers may contain special characters that we want to ignore. "
   ]
  },
  {
   "cell_type": "code",
   "execution_count": null,
   "metadata": {},
   "outputs": [],
   "source": [
    "%resetCas"
   ]
  },
  {
   "cell_type": "code",
   "execution_count": null,
   "metadata": {},
   "outputs": [],
   "source": [
    "%%documentText\n",
    "My number is 0123.4324.54336.\n",
    "Call me: 2342-2341- 20513."
   ]
  },
  {
   "cell_type": "markdown",
   "metadata": {},
   "source": [
    "Using `ADDFILTERTYPE`, we remove the visibility of the `PERIOD` symbol and `SPECIAL` characters. We then match on the longest sequence of numbers. This leaves us with the two telephone numbers of interest.\n",
    "\n",
    "// TODO: Discuss why the \"-PARTOF(PhoneNumber)\" is needed and what would happen otherwise (this is great to discuss the \"left to right\" concept again)"
   ]
  },
  {
   "cell_type": "code",
   "execution_count": null,
   "metadata": {},
   "outputs": [],
   "source": [
    "%csvConfig PhoneNumber\n",
    "DECLARE PhoneNumber;\n",
    "ADDFILTERTYPE(PERIOD, SPECIAL);\n",
    "NUM+{-PARTOF(PhoneNumber) ->PhoneNumber};"
   ]
  },
  {
   "cell_type": "markdown",
   "metadata": {},
   "source": [
    "Instead of ignoring the complete Type (like the `SPECIAL` above), another useful approach is to define a helper type `Invisible`, render it invisible and assign irrelevant tokens (for example `\"-\"`) to that Type. "
   ]
  },
  {
   "cell_type": "code",
   "execution_count": null,
   "metadata": {},
   "outputs": [],
   "source": [
    "// Remove previous results\n",
    "pn:PhoneNumber{->UNMARK(pn)};\n",
    "\n",
    "DECLARE Invisible;\n",
    "ADDFILTERTYPE(Invisible);\n",
    "\".\" {-> Invisible};\n",
    "\"-\" {-> Invisible};\n",
    "NUM+{-PARTOF(PhoneNumber) ->PhoneNumber};"
   ]
  }
 ],
 "metadata": {
  "kernelspec": {
   "display_name": "UIMA Ruta",
   "language": "ruta",
   "name": "ruta"
  },
  "language_info": {
   "codemirror_mode": "ruta",
   "file_extension": ".ruta",
   "mimetype": "text/ruta",
   "name": "UIMA Ruta",
   "pygments_lexer": "ruta",
   "version": "3.1.0"
  }
 },
 "nbformat": 4,
 "nbformat_minor": 4
}
