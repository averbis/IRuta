{
 "cells": [
  {
   "cell_type": "markdown",
   "metadata": {},
   "source": [
    "# Exercise 4: Conditions and Actions\n",
    "\n",
    "In this notebook, a selection of conditions and actions are introduced. These highlight different approaches how to work with annotations."
   ]
  },
  {
   "cell_type": "code",
   "execution_count": null,
   "metadata": {},
   "outputs": [],
   "source": [
    "%%documentText\n",
    "The dog barked at the cat.\n",
    "Dogs, cats and mice are mammals.\n",
    "Zander and tuna are fishes.\n",
    "Peter works for Frank.\n",
    "10€ are less than 100$."
   ]
  },
  {
   "cell_type": "markdown",
   "metadata": {},
   "source": [
    "We annotate all sentences that contain a number or a comma using a combination of conditions. Thus, we classify the sentence using two disjunctive properties."
   ]
  },
  {
   "cell_type": "code",
   "execution_count": null,
   "metadata": {},
   "outputs": [],
   "source": [
    "%displayMode CSV\n",
    "%csvConfig SentenceWithNumberOrComma\n",
    "DECLARE Sentence;\n",
    "\n",
    "// create some simple sentences\n",
    "(ANY+{-PARTOF(Sentence),-PARTOF(PERIOD)} PERIOD){-> Sentence};\n",
    "\n",
    "DECLARE SentenceWithNumberOrComma;\n",
    "\n",
    "Sentence{OR(CONTAINS(NUM),CONTAINS(COMMA))-> SentenceWithNumberOrComma};"
   ]
  },
  {
   "cell_type": "markdown",
   "metadata": {},
   "source": [
    "Now, we annotate all sentences that contain at least two capitalized words."
   ]
  },
  {
   "cell_type": "code",
   "execution_count": null,
   "metadata": {},
   "outputs": [],
   "source": [
    "%csvConfig SentenceWith2CapitalizedWords\n",
    "DECLARE SentenceWith2CapitalizedWords;\n",
    "\n",
    "// right now we stil need a upper boundary\n",
    "Sentence{CONTAINS(CW,2,1000)-> SentenceWith2CapitalizedWords};"
   ]
  },
  {
   "cell_type": "markdown",
   "metadata": {},
   "source": [
    "Now, we annotate all sentences that start with an animal."
   ]
  },
  {
   "cell_type": "code",
   "execution_count": null,
   "metadata": {},
   "outputs": [],
   "source": [
    "%csvConfig SentenceStartsWithAnimal\n",
    "DECLARE SentenceStartsWithAnimal;\n",
    "\n",
    "DECLARE Animal;\n",
    "WORDLIST AnimalList = 'animals.txt';\n",
    "MARKFAST(Animal, AnimalList, true);\n",
    "\n",
    "Sentence{STARTSWITH(Animal)-> SentenceStartsWithAnimal};"
   ]
  },
  {
   "cell_type": "markdown",
   "metadata": {},
   "source": [
    "Next, we remove all sentences that contain an animal. The UNMARK action is really useful to disentangle rules."
   ]
  },
  {
   "cell_type": "code",
   "execution_count": null,
   "metadata": {},
   "outputs": [],
   "source": [
    "%csvConfig Sentence\n",
    "\n",
    "s:Sentence{CONTAINS(Animal)-> UNMARK(s)};"
   ]
  },
  {
   "cell_type": "markdown",
   "metadata": {},
   "source": [
    "We remove all amounts of money whose amount is less than 50. Almost any boolean expression can be used to represent an implicit condition. Here, we simple define a condition on the feature value."
   ]
  },
  {
   "cell_type": "code",
   "execution_count": null,
   "metadata": {},
   "outputs": [],
   "source": [
    "%displayMode RUTA_COLORING\n",
    "\n",
    "DECLARE MoneyAmount(INT amount, STRING currency);\n",
    "INT value;\n",
    "(NUM{PARSE(value)} c:SPECIAL){-> CREATE(MoneyAmount, \"amount\"=value, \"currency\"=c.ct)};\n",
    "\n",
    "ma:MoneyAmount{ma.amount<50 -> UNMARK(ma)};\n",
    "\n",
    "COLOR(MoneyAmount, \"lightgreen\");"
   ]
  },
  {
   "cell_type": "markdown",
   "metadata": {},
   "source": [
    "We also remove all amounts of money whose currency is dollar."
   ]
  },
  {
   "cell_type": "code",
   "execution_count": null,
   "metadata": {},
   "outputs": [],
   "source": [
    "ma:MoneyAmount{ma.currency==\"$\" -> UNMARK(ma)};"
   ]
  },
  {
   "cell_type": "markdown",
   "metadata": {},
   "source": [
    "In the next exmaple, we change the offsets of an existing annoation. We expand the \"WorksFor\"\" annotation to the complete document."
   ]
  },
  {
   "cell_type": "code",
   "execution_count": null,
   "metadata": {},
   "outputs": [],
   "source": [
    "DECLARE Employer, Employee;\n",
    "\"Peter\"-> Employee;\n",
    "\"Frank\"-> Employer;\n",
    "\n",
    "DECLARE WorksFor (Employee employee, Employer employer);\n",
    "(e1:Employee # e2:Employer){-> wf:WorksFor, wf.employee=e1, wf.employer=e2};\n",
    "\n",
    "// we can use the action SHIFT\n",
    "//# @WorksFor{-> SHIFT(WorksFor,1,3)} #; \n",
    "\n",
    "// or we could do this also using implicit actions:\n",
    "b:# wf:@WorksFor{-> wf.begin=b.begin, wf.end=e.end} e:#;\n",
    "\n",
    "COLOR(WorksFor, \"pink\");"
   ]
  },
  {
   "cell_type": "code",
   "execution_count": null,
   "metadata": {},
   "outputs": [],
   "source": [
    "// reset everything and start anew\n",
    "%resetCas"
   ]
  },
  {
   "cell_type": "code",
   "execution_count": null,
   "metadata": {},
   "outputs": [],
   "source": [
    "%%documentText\n",
    "The dog barked at the cat.\n",
    "Dogs, cats and mice are mammals.\n",
    "Zander and tuna are fishes.\n",
    "Peter works for Frank.\n",
    "10€ are less than 100$."
   ]
  },
  {
   "cell_type": "markdown",
   "metadata": {},
   "source": [
    "Now, we trim the sentences by punctuation marks."
   ]
  },
  {
   "cell_type": "code",
   "execution_count": null,
   "metadata": {},
   "outputs": [],
   "source": [
    "%displayMode CSV\n",
    "%csvConfig Sentence\n",
    "\n",
    "DECLARE Sentence;\n",
    "(ANY+{-PARTOF(Sentence),-PARTOF(PERIOD)} PERIOD){-> Sentence};\n",
    "\n",
    "Sentence{->TRIM(PERIOD)};"
   ]
  },
  {
   "cell_type": "markdown",
   "metadata": {},
   "source": [
    "And we split the sentences at the word \"are\"."
   ]
  },
  {
   "cell_type": "code",
   "execution_count": null,
   "metadata": {},
   "outputs": [],
   "source": [
    "DECLARE Split;\n",
    "W.ct==\"are\"{-> Split};\n",
    "\n",
    "Sentence{-> SPLIT(Split)};"
   ]
  },
  {
   "cell_type": "markdown",
   "metadata": {},
   "source": [
    "There are many useful actions and conditions. A complete list can be found in the UIMA Ruta documentation."
   ]
  }
 ],
 "metadata": {
  "kernelspec": {
   "display_name": "UIMA Ruta",
   "language": "ruta",
   "name": "ruta"
  },
  "language_info": {
   "codemirror_mode": "ruta",
   "file_extension": ".ruta",
   "mimetype": "text/ruta",
   "name": "UIMA Ruta",
   "pygments_lexer": "ruta",
   "version": "3.0.1"
  }
 },
 "nbformat": 4,
 "nbformat_minor": 4
}
