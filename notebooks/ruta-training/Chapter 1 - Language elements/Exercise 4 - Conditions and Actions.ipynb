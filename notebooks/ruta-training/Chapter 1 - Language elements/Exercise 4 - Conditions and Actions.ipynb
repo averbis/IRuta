{
 "cells": [
  {
   "cell_type": "markdown",
   "metadata": {},
   "source": [
    "# Exercise 4: Conditions and Actions\n",
    "\n",
    "In this notebook, a selection of conditions and actions are introduced. These highlight different approaches how to work with annotations."
   ]
  },
  {
   "cell_type": "markdown",
   "metadata": {},
   "source": [
    "#### Setup"
   ]
  },
  {
   "cell_type": "code",
   "execution_count": null,
   "metadata": {},
   "outputs": [],
   "source": [
    "%%documentText\n",
    "The dog barked at the cat.\n",
    "Dogs, cats and mice are mammals.\n",
    "Zander and tuna are fishes.\n",
    "Peter works for Frank.\n",
    "10€ are less than 100$."
   ]
  },
  {
   "cell_type": "markdown",
   "metadata": {},
   "source": [
    "We add a (simplified) rule to detect sentences. These sentences will be used later for illustrating different conditions/actions."
   ]
  },
  {
   "cell_type": "code",
   "execution_count": null,
   "metadata": {},
   "outputs": [],
   "source": [
    "%displayMode CSV\n",
    "%csvConfig Sentence\n",
    "DECLARE Sentence;\n",
    "// Create some simple sentences\n",
    "(ANY+{-PARTOF(Sentence),-PARTOF(PERIOD)} PERIOD){-> Sentence};"
   ]
  },
  {
   "cell_type": "markdown",
   "metadata": {},
   "source": [
    "### Conditions (`OR`, `CONTAINS`, `STARTSWITH`)"
   ]
  },
  {
   "cell_type": "markdown",
   "metadata": {},
   "source": [
    "#### Annotating sentences that contain a number or a comma"
   ]
  },
  {
   "cell_type": "markdown",
   "metadata": {},
   "source": [
    "We annotate all sentences that contain a number or a comma using a combination of conditions."
   ]
  },
  {
   "cell_type": "code",
   "execution_count": null,
   "metadata": {},
   "outputs": [],
   "source": [
    "%csvConfig SentenceWithNumberOrComma\n",
    "DECLARE SentenceWithNumberOrComma;\n",
    "Sentence{OR(CONTAINS(NUM),CONTAINS(COMMA))-> SentenceWithNumberOrComma};"
   ]
  },
  {
   "cell_type": "markdown",
   "metadata": {},
   "source": [
    "#### Annotating sentences that contain at least two capitalized words"
   ]
  },
  {
   "cell_type": "code",
   "execution_count": null,
   "metadata": {},
   "outputs": [],
   "source": [
    "%csvConfig SentenceWith2CapitalizedWords\n",
    "DECLARE SentenceWith2CapitalizedWords;\n",
    "\n",
    "// Right now we stil need a upper boundary and simply set it to a very high number\n",
    "Sentence{CONTAINS(CW,2,1000)-> SentenceWith2CapitalizedWords};"
   ]
  },
  {
   "cell_type": "markdown",
   "metadata": {},
   "source": [
    "#### Annotating sentences that start with an Animal annotation"
   ]
  },
  {
   "cell_type": "code",
   "execution_count": null,
   "metadata": {},
   "outputs": [],
   "source": [
    "%csvConfig SentenceStartsWithAnimal\n",
    "DECLARE SentenceStartsWithAnimal;\n",
    "\n",
    "DECLARE Animal;\n",
    "WORDLIST AnimalList = 'resources/animals.txt';\n",
    "MARKFAST(Animal, AnimalList, true);\n",
    "\n",
    "Sentence{STARTSWITH(Animal)-> SentenceStartsWithAnimal};"
   ]
  },
  {
   "cell_type": "markdown",
   "metadata": {},
   "source": [
    "### The `UNMARK` action"
   ]
  },
  {
   "cell_type": "markdown",
   "metadata": {},
   "source": [
    "#### Removing all sentences that contain an Animal annotation\n",
    "The `UNMARK` action is really useful to disentangle rules. The `s` in the rule is used as a label/reference for the Sentence annotation."
   ]
  },
  {
   "cell_type": "code",
   "execution_count": null,
   "metadata": {},
   "outputs": [],
   "source": [
    "%csvConfig Sentence\n",
    "s:Sentence{CONTAINS(Animal)-> UNMARK(s)};"
   ]
  },
  {
   "cell_type": "markdown",
   "metadata": {},
   "source": [
    "#### Removing all amounts of money whose value is less than 50 or if the currency is dollar"
   ]
  },
  {
   "cell_type": "markdown",
   "metadata": {},
   "source": [
    "Almost any boolean expression can be used to represent an implicit condition. Here, we simple define a condition on the feature value."
   ]
  },
  {
   "cell_type": "markdown",
   "metadata": {},
   "source": [
    "##### Setup"
   ]
  },
  {
   "cell_type": "code",
   "execution_count": null,
   "metadata": {},
   "outputs": [],
   "source": [
    "%displayMode RUTA_COLORING\n",
    "// Simplified: Annotate amounts of money with currency (see exercise 3)\n",
    "DECLARE MoneyAmount(INT amount, STRING currency);\n",
    "INT value;\n",
    "(NUM{PARSE(value)} c:SPECIAL){-> CREATE(MoneyAmount, \"amount\"=value, \"currency\"=c.ct)};"
   ]
  },
  {
   "cell_type": "markdown",
   "metadata": {},
   "source": [
    "##### Rule 1: If the amount is less than 50, then we remove the annotation"
   ]
  },
  {
   "cell_type": "code",
   "execution_count": null,
   "metadata": {},
   "outputs": [],
   "source": [
    "ma:MoneyAmount{ma.amount<50 -> UNMARK(ma)};\n",
    "COLOR(MoneyAmount, \"lightgreen\");"
   ]
  },
  {
   "cell_type": "markdown",
   "metadata": {},
   "source": [
    "##### Rule 2: Removing all amounts of money whose currency is dollar."
   ]
  },
  {
   "cell_type": "code",
   "execution_count": null,
   "metadata": {},
   "outputs": [],
   "source": [
    "ma:MoneyAmount{ma.currency==\"$\" -> UNMARK(ma)};"
   ]
  },
  {
   "cell_type": "markdown",
   "metadata": {},
   "source": [
    "### Changing the offset of an annotation using an implicit action"
   ]
  },
  {
   "cell_type": "markdown",
   "metadata": {},
   "source": [
    "In the next example, we change the offsets of an existing annotation. We expand the `WorksFor` annotation to the complete document."
   ]
  },
  {
   "cell_type": "code",
   "execution_count": null,
   "metadata": {},
   "outputs": [],
   "source": [
    "DECLARE Employer, Employee;\n",
    "\"Peter\"-> Employee;\n",
    "\"Frank\"-> Employer;\n",
    "\n",
    "DECLARE WorksFor (Employee employee, Employer employer);\n",
    "(e1:Employee # e2:Employer){-> wf:WorksFor, wf.employee=e1, wf.employer=e2};\n",
    "\n",
    "// we can use the action SHIFT\n",
    "//# @WorksFor{-> SHIFT(WorksFor,1,3)} #; \n",
    "\n",
    "// or we could do this also using implicit actions:\n",
    "b:# wf:@WorksFor{-> wf.begin=b.begin, wf.end=e.end} e:#;\n",
    "\n",
    "COLOR(WorksFor, \"pink\");"
   ]
  },
  {
   "cell_type": "markdown",
   "metadata": {},
   "source": [
    "### The `TRIM` action"
   ]
  },
  {
   "cell_type": "code",
   "execution_count": null,
   "metadata": {},
   "outputs": [],
   "source": [
    "// Reset everything and start anew\n",
    "%resetCas"
   ]
  },
  {
   "cell_type": "code",
   "execution_count": null,
   "metadata": {},
   "outputs": [],
   "source": [
    "%%documentText\n",
    "The dog barked at the cat.\n",
    "Dogs, cats and mice are mammals.\n",
    "Zander and tuna are fishes.\n",
    "Peter works for Frank.\n",
    "10€ are less than 100$."
   ]
  },
  {
   "cell_type": "markdown",
   "metadata": {},
   "source": [
    "Now, we trim the sentences by punctuation marks using the `TRIM` action. `TRIM` changes the offsets of the matched annotations (`Sentence` in this case) by removing a given annotations (`PERIOD` signs in this case) from the beginning and end of an annotation. "
   ]
  },
  {
   "cell_type": "code",
   "execution_count": null,
   "metadata": {},
   "outputs": [],
   "source": [
    "%displayMode CSV\n",
    "%csvConfig Sentence\n",
    "\n",
    "DECLARE Sentence;\n",
    "// Create some simple sentences\n",
    "(ANY+{-PARTOF(Sentence),-PARTOF(PERIOD)} PERIOD){-> Sentence};\n",
    "\n",
    "Sentence{->TRIM(PERIOD)};"
   ]
  },
  {
   "cell_type": "markdown",
   "metadata": {},
   "source": [
    "### The `SPLIT` action"
   ]
  },
  {
   "cell_type": "markdown",
   "metadata": {},
   "source": [
    "And we split the sentences at the word \"are\" using the `SPLIT` action."
   ]
  },
  {
   "cell_type": "code",
   "execution_count": null,
   "metadata": {},
   "outputs": [],
   "source": [
    "DECLARE Split;\n",
    "W{REGEXP(\"are\") -> Split};\n",
    "\n",
    "Sentence{-> SPLIT(Split)};"
   ]
  },
  {
   "cell_type": "markdown",
   "metadata": {},
   "source": [
    "There are many more useful actions and conditions. A complete list can be found in the [UIMA Ruta documentation](https://uima.apache.org/d/ruta-current/tools.ruta.book.html)."
   ]
  }
 ],
 "metadata": {
  "kernelspec": {
   "display_name": "UIMA Ruta",
   "language": "ruta",
   "name": "ruta"
  },
  "language_info": {
   "codemirror_mode": "ruta",
   "file_extension": ".ruta",
   "mimetype": "text/ruta",
   "name": "UIMA Ruta",
   "pygments_lexer": "ruta",
   "version": "3.1.0"
  }
 },
 "nbformat": 4,
 "nbformat_minor": 4
}
