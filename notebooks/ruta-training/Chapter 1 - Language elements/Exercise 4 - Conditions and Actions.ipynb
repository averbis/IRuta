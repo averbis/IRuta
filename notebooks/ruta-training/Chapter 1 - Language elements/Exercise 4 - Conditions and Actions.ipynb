{
 "cells": [
  {
   "cell_type": "markdown",
   "metadata": {},
   "source": [
    "# Exercise 4: Conditions and Actions\n",
    "\n",
    "In this notebook, a selection of conditions and actions are introduced. These highlight different approach how to work with annotations."
   ]
  },
  {
   "cell_type": "code",
   "execution_count": null,
   "metadata": {},
   "outputs": [],
   "source": [
    "%%documentText\n",
    "The dog barked at the cat.\n",
    "Dogs, cats and mice are mammals.\n",
    "Zander and tuna are fishes.\n",
    "Peter works for Frank.\n",
    "10€ are less than 100$."
   ]
  },
  {
   "cell_type": "markdown",
   "metadata": {},
   "source": [
    "Annotate all sentences that contain a number or a comma."
   ]
  },
  {
   "cell_type": "code",
   "execution_count": null,
   "metadata": {},
   "outputs": [],
   "source": [
    "%displayMode CSV\n",
    "%csvConfig SentenceWithNumberOrComma\n",
    "DECLARE Sentence;\n",
    "\n",
    "(ANY+{-PARTOF(Sentence),-PARTOF(PERIOD)} PERIOD){-> Sentence};\n",
    "\n",
    "DECLARE SentenceWithNumberOrComma;\n",
    "\n",
    "Sentence{OR(CONTAINS(NUM),CONTAINS(COMMA))-> SentenceWithNumberOrComma};"
   ]
  },
  {
   "cell_type": "markdown",
   "metadata": {},
   "source": [
    "Annotate all sentences that contain at least two capitalized words."
   ]
  },
  {
   "cell_type": "code",
   "execution_count": null,
   "metadata": {},
   "outputs": [],
   "source": [
    "%csvConfig SentenceWith2CapitalizedWords\n",
    "DECLARE SentenceWith2CapitalizedWords;\n",
    "\n",
    "Sentence{CONTAINS(CW,2,1000)-> SentenceWith2CapitalizedWords};"
   ]
  },
  {
   "cell_type": "markdown",
   "metadata": {},
   "source": [
    "Annotate all sentences that start with an animal."
   ]
  },
  {
   "cell_type": "code",
   "execution_count": null,
   "metadata": {},
   "outputs": [],
   "source": [
    "%csvConfig SentenceStartsWithAnimal\n",
    "DECLARE SentenceStartsWithAnimal;\n",
    "\n",
    "DECLARE Animal;\n",
    "WORDLIST AnimalList = 'animals.txt';\n",
    "MARKFAST(Animal, AnimalList, true);\n",
    "\n",
    "Sentence{STARTSWITH(Animal)-> SentenceStartsWithAnimal};"
   ]
  },
  {
   "cell_type": "markdown",
   "metadata": {},
   "source": [
    "Remove all sentences that contain an animal."
   ]
  },
  {
   "cell_type": "code",
   "execution_count": null,
   "metadata": {},
   "outputs": [],
   "source": [
    "%csvConfig Sentence\n",
    "\n",
    "s:Sentence{CONTAINS(Animal)-> UNMARK(s)};"
   ]
  },
  {
   "cell_type": "markdown",
   "metadata": {},
   "source": [
    "Remove all amounts of money whose amount is less than 50."
   ]
  },
  {
   "cell_type": "code",
   "execution_count": null,
   "metadata": {},
   "outputs": [],
   "source": [
    "%displayMode RUTA_COLORING\n",
    "\n",
    "DECLARE MoneyAmount(INT amount, STRING currency);\n",
    "INT value;\n",
    "(NUM{PARSE(value)} c:SPECIAL){-> CREATE(MoneyAmount, \"amount\"=value, \"currency\"=c.ct)};\n",
    "\n",
    "ma:MoneyAmount{ma.amount<50 -> UNMARK(ma)};\n",
    "\n",
    "COLOR(MoneyAmount, \"lightgreen\");"
   ]
  },
  {
   "cell_type": "markdown",
   "metadata": {},
   "source": [
    "Remove all amounts of money whose currency is dollar."
   ]
  },
  {
   "cell_type": "code",
   "execution_count": null,
   "metadata": {},
   "outputs": [],
   "source": [
    "ma:MoneyAmount{ma.currency==\"$\" -> UNMARK(ma)};"
   ]
  },
  {
   "cell_type": "markdown",
   "metadata": {},
   "source": [
    "Expand the \"WorksFor\"\" annotation to the complete document."
   ]
  },
  {
   "cell_type": "code",
   "execution_count": null,
   "metadata": {},
   "outputs": [],
   "source": [
    "DECLARE Employer, Employee;\n",
    "\"Peter\"-> Employee;\n",
    "\"Frank\"-> Employer;\n",
    "\n",
    "DECLARE WorksFor (Employee employee, Employer employer);\n",
    "(e1:Employee # e2:Employer){-> wf:WorksFor, wf.employee=e1, wf.employer=e2};\n",
    "\n",
    "# @WorksFor{-> SHIFT(WorksFor,1,3)} #; \n",
    "\n",
    "COLOR(WorksFor, \"pink\");"
   ]
  },
  {
   "cell_type": "code",
   "execution_count": null,
   "metadata": {},
   "outputs": [],
   "source": [
    "// reset everything and tsart anew\n",
    "%resetCas"
   ]
  },
  {
   "cell_type": "code",
   "execution_count": null,
   "metadata": {},
   "outputs": [],
   "source": [
    "%%documentText\n",
    "The dog barked at the cat.\n",
    "Dogs, cats and mice are mammals.\n",
    "Zander and tuna are fishes.\n",
    "Peter works for Frank.\n",
    "10€ are less than 100$."
   ]
  },
  {
   "cell_type": "markdown",
   "metadata": {},
   "source": [
    "Trim the sentences by punctuation marks."
   ]
  },
  {
   "cell_type": "code",
   "execution_count": null,
   "metadata": {},
   "outputs": [],
   "source": [
    "%displayMode CSV\n",
    "%csvConfig Sentence\n",
    "\n",
    "DECLARE Sentence;\n",
    "(ANY+{-PARTOF(Sentence),-PARTOF(PERIOD)} PERIOD){-> Sentence};\n",
    "\n",
    "Sentence{->TRIM(PERIOD)};\n"
   ]
  },
  {
   "cell_type": "markdown",
   "metadata": {},
   "source": [
    "Split the sentences by the word \"are\"."
   ]
  },
  {
   "cell_type": "code",
   "execution_count": null,
   "metadata": {},
   "outputs": [],
   "source": [
    "DECLARE Split;\n",
    "W.ct==\"are\"{-> Split};\n",
    "\n",
    "Sentence{-> SPLIT(Split)};\n"
   ]
  }
 ],
 "metadata": {
  "kernelspec": {
   "display_name": "UIMA Ruta",
   "language": "ruta",
   "name": "ruta"
  },
  "language_info": {
   "codemirror_mode": "ruta",
   "file_extension": ".ruta",
   "mimetype": "text/ruta",
   "name": "UIMA Ruta",
   "pygments_lexer": "ruta",
   "version": "3.0.1"
  }
 },
 "nbformat": 4,
 "nbformat_minor": 4
}
