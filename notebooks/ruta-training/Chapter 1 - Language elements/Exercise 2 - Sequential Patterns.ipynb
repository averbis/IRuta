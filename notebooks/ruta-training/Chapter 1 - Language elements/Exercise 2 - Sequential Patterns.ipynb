{
 "cells": [
  {
   "cell_type": "markdown",
   "metadata": {},
   "source": [
    "# Exercise 2: Sequential Patterns\n",
    "\n",
    "This execise provides an introduction to how annotations are combined in sequential patterns."
   ]
  },
  {
   "cell_type": "markdown",
   "metadata": {},
   "source": [
    "#### Setup"
   ]
  },
  {
   "cell_type": "markdown",
   "metadata": {},
   "source": [
    "First, we define some input text for the following examples."
   ]
  },
  {
   "cell_type": "code",
   "execution_count": null,
   "metadata": {},
   "outputs": [],
   "source": [
    "%%documentText\n",
    "The dog barked at the cat.\n",
    "Dogs, cats and mice are mammals.\n",
    "There are 12 tuna swimming in the sea.\n",
    "This text was created approx. on 13.04.2021."
   ]
  },
  {
   "cell_type": "markdown",
   "metadata": {},
   "source": [
    "Then, we provide some initial Animal annotations using an dictionary."
   ]
  },
  {
   "cell_type": "code",
   "execution_count": null,
   "metadata": {
    "scrolled": true
   },
   "outputs": [],
   "source": [
    "DECLARE Animal;\n",
    "WORDLIST AnimalList = 'animals.txt';\n",
    "MARKFAST(Animal, AnimalList, true);"
   ]
  },
  {
   "cell_type": "markdown",
   "metadata": {},
   "source": [
    "This annotates all animals in the text (dog, cat, dogs, cats, mice, tuna). The annotations are not visible as we did not execute the statement `COLOR(Animal, \"lightgreen\");`."
   ]
  },
  {
   "cell_type": "markdown",
   "metadata": {},
   "source": [
    "### Sequential Patterns"
   ]
  },
  {
   "cell_type": "markdown",
   "metadata": {},
   "source": [
    "#### Simple pattern: An animal preceded by a number"
   ]
  },
  {
   "cell_type": "markdown",
   "metadata": {},
   "source": [
    "In the previous exercise 1, you have seen how we can annotate a word based on its covered text. Often times, it is desired, to only create an annotation if the word is part of a certain sequence. This is very easy to do with Ruta.\n",
    "\n",
    "Suppose that we want to create annotations of the type `MultipleAnimals`, if an Animal is preceded by a number. Then we can do the following."
   ]
  },
  {
   "cell_type": "code",
   "execution_count": null,
   "metadata": {},
   "outputs": [],
   "source": [
    "DECLARE MultipleAnimals;             // Declaring a new type Animals\n",
    "(NUM Animal){-> MultipleAnimals};    // If a number is followed by an Animal, create a new annotation of type MultipleAnimals\n",
    "COLOR(MultipleAnimals,\"lightblue\");  // Show \"MultipleAnimals\" in blue"
   ]
  },
  {
   "cell_type": "markdown",
   "metadata": {},
   "source": [
    "#### Annotating an enumeration of animals"
   ]
  },
  {
   "cell_type": "markdown",
   "metadata": {},
   "source": [
    "Next, we want to annotate enumerations of Animals, i.e. \"*Dogs, cats and mice*\" in this text example. This should be annotated with a new Type called `AnimalEnum`.\n",
    "\n",
    "As a preliminary step, we will annotate all `Conjunction` elements with the rule below using the Condiction-Action structure that we have already seen in exercise 1. The rule in line 2 goes through all tokens of the document (`ANY`) and matches if this token is a `COMMA` or if the token is the word \"and\" or \"or\". In these cases, it creates a new `Conjunction` annotation."
   ]
  },
  {
   "cell_type": "code",
   "execution_count": null,
   "metadata": {
    "scrolled": true
   },
   "outputs": [],
   "source": [
    "DECLARE Conjunction;\n",
    "ANY{OR(IS(COMMA), REGEXP(\"and|or\")) -> Conjunction};\n",
    "COLOR(Conjunction,\"pink\");"
   ]
  },
  {
   "cell_type": "markdown",
   "metadata": {},
   "source": [
    "Now, we declare a new annotation type `AnimalEnum` and annotate enumerations of Animals using composed rule elements and a quantifier. The general structure of these enumerations should be: `Animal Conjunction Animal .... Conjunction Animal`. Similar to regular expressions, the plus quantifier `+` can be used to model this behavior. It matches if there is at least one occurrence of the part `(Conjunction Animal)`. \n",
    "\n",
    "Other important quantifiers are `?` (matches zero or one time), `*` (matches zero or more times) and the notation `[2,5]` - matches two to five repetitions. These quantifiers are greedy and always match with the longest valid sequence."
   ]
  },
  {
   "cell_type": "code",
   "execution_count": null,
   "metadata": {},
   "outputs": [],
   "source": [
    "DECLARE AnimalEnum;\n",
    "(Animal (Conjunction Animal)+) {-> AnimalEnum};\n",
    "COLOR(AnimalEnum, \"lightgreen\");"
   ]
  },
  {
   "cell_type": "markdown",
   "metadata": {},
   "source": [
    "#### Annotating sentences"
   ]
  },
  {
   "cell_type": "markdown",
   "metadata": {},
   "source": [
    "Let's reset the document with all its annotations — which is called Common Analysis Structure, `CAS` — and try to annotate sentences."
   ]
  },
  {
   "cell_type": "code",
   "execution_count": null,
   "metadata": {},
   "outputs": [],
   "source": [
    "%resetCas"
   ]
  },
  {
   "cell_type": "code",
   "execution_count": null,
   "metadata": {},
   "outputs": [],
   "source": [
    "%%documentText\n",
    "The dog barked at the cat.\n",
    "Dogs, cats and mice are mammals.\n",
    "Zander and tuna are fishes.\n",
    "This text was created approx. on 13.04.2021."
   ]
  },
  {
   "cell_type": "markdown",
   "metadata": {},
   "source": [
    "We declare a new annotation type `Sentence` and create a Sentence annotation for each sentence in the input document. We use the wildcard `#` which uses the next rule element to determine its match and always takes the shortest possible sequence. For instance, the rule `(# PERIOD){-> Sentence};` creates a Sentence annotation on anything until the first `PERIOD` token. The second rule `PERIOD (# PERIOD){-> Sentence};` creates a Sentence annotation on anything between two consecutive `PERIOD` tokens."
   ]
  },
  {
   "cell_type": "code",
   "execution_count": null,
   "metadata": {},
   "outputs": [],
   "source": [
    "// Let's also switch to a different output display mode\n",
    "// We list the detected sentences in a table\n",
    "%displayMode CSV\n",
    "%csvConfig Sentence\n",
    "DECLARE Sentence;\n",
    "\n",
    "(# PERIOD){-> Sentence};\n",
    "PERIOD (# PERIOD){-> Sentence};"
   ]
  },
  {
   "cell_type": "markdown",
   "metadata": {},
   "source": [
    "This initial try to annotate sentence has several problems with the Period symbols in `approx.` and within the date. "
   ]
  },
  {
   "cell_type": "code",
   "execution_count": null,
   "metadata": {},
   "outputs": [],
   "source": [
    "// To start over, we can remove the initial faulty Sentence annotations.\n",
    "// For each Sentence, we apply UNMARK() which removes annotations.\n",
    "s:Sentence{-> UNMARK(s)};"
   ]
  },
  {
   "cell_type": "markdown",
   "metadata": {},
   "source": [
    "Let's introduce a \"helper\" annotation for sentence ends and improve the resulting annotations."
   ]
  },
  {
   "cell_type": "code",
   "execution_count": null,
   "metadata": {},
   "outputs": [],
   "source": [
    "DECLARE SentenceEnd;\n",
    "// A period is a \"SentenceEnd\" only if it is followed by any Token (_) that is \n",
    "// not a number and not a small written word (SW).\n",
    "//\n",
    "// The \"_\" is a special matching condition. It is also fulfilled if nothing is left to match\n",
    "// and necessary to match the last Sentence. \n",
    "PERIOD{-> SentenceEnd} _{-PARTOF(NUM), -PARTOF(SW)};\n",
    "\n",
    "(# SentenceEnd){-> Sentence};             // Matches the first sentence.\n",
    "SentenceEnd (# SentenceEnd){-> Sentence}; // Matches other sentences."
   ]
  },
  {
   "cell_type": "markdown",
   "metadata": {},
   "source": [
    "Looks good! Of course, there are still problems, e.g. exclamation marks and question marks should also be considered a `SentenceEnd` ..."
   ]
  },
  {
   "cell_type": "markdown",
   "metadata": {},
   "source": [
    "### Annotating a simple Date pattern"
   ]
  },
  {
   "cell_type": "markdown",
   "metadata": {},
   "source": [
    "In the next cell, we declare four new annotation types: `Day`, `Month`, `Year` and `Date`.\n",
    "We create a single rule for detecting dates of the form `DD.MM.YYYY`. \n",
    "This single rule should create four annotations:\n",
    "1. A \"Date\" annotation for the complete date mention.\n",
    "2. A \"Day\" annotation for the two digits of the day.\n",
    "3. A \"Month\" annotation for the two digits of the month.\n",
    "4. A \"Year\" annotation for the four digits of the year."
   ]
  },
  {
   "cell_type": "code",
   "execution_count": null,
   "metadata": {},
   "outputs": [],
   "source": [
    "DECLARE Date, Day, Month, Year;\n",
    "\n",
    "//we restrict the number using a regex\n",
    "(NUM{REGEXP(\"..\")-> Day} PERIOD \n",
    "    NUM{REGEXP(\"..\")-> Month} PERIOD \n",
    "    NUM{REGEXP(\".{4}\")-> Year}){-> Date};\n",
    "\n",
    "COLOR(Day, \"pink\");\n",
    "COLOR(Month, \"lightgreen\");\n",
    "COLOR(Year, \"lightblue\");\n",
    "COLOR(Date, \"lightgrey\");"
   ]
  },
  {
   "cell_type": "markdown",
   "metadata": {},
   "source": [
    "It is often very useful to specify more than one action in a rule. This way, we can detect multiple entities using a single sequential pattern and only in combination with other information."
   ]
  }
 ],
 "metadata": {
  "kernelspec": {
   "display_name": "UIMA Ruta",
   "language": "ruta",
   "name": "ruta"
  },
  "language_info": {
   "codemirror_mode": "ruta",
   "file_extension": ".ruta",
   "mimetype": "text/ruta",
   "name": "UIMA Ruta",
   "pygments_lexer": "ruta",
   "version": "3.0.1"
  }
 },
 "nbformat": 4,
 "nbformat_minor": 4
}
