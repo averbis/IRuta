{
 "cells": [
  {
   "cell_type": "markdown",
   "metadata": {},
   "source": [
    "# Title\n",
    "\n",
    "In this notebook, we try to annotate the title of the reference using the previously extracted information. We apply the same paradigm and try to detect the start of the title using the other entities and the end of the title based on chars and additional information."
   ]
  },
  {
   "cell_type": "markdown",
   "metadata": {},
   "source": [
    "#### Let's first inspect a single training example with gold standard information"
   ]
  },
  {
   "cell_type": "code",
   "execution_count": null,
   "metadata": {},
   "outputs": [],
   "source": [
    "%displayMode RUTA_COLORING\n",
    "%loadCas data/train/A00-1042.txt.xmi\n",
    "%typeSystemDir typesystems/\n",
    "TYPESYSTEM ReferencesTypeSystem;\n",
    "COLOR(Title,\"lightgreen\");"
   ]
  },
  {
   "cell_type": "markdown",
   "metadata": {},
   "source": [
    "#### Let's now write some rules to detect dates"
   ]
  },
  {
   "cell_type": "code",
   "execution_count": null,
   "metadata": {},
   "outputs": [],
   "source": [
    "%inputDir data/train\n",
    "%outputDir temp/out_title_train\n",
    "\n",
    "// Evaluation mode for Title annotations\n",
    "%displayMode EVALUATION\n",
    "%evalTypes Title\n",
    "\n",
    "// Paths for resources. The script for detecting Dates and Author annotations\n",
    "// has been written to temp/ when executing exercise 1 and exercise 2.\n",
    "%scriptDir temp/\n",
    "%typeSystemDir typesystems/\n",
    "\n",
    "// Writing this script and the TypeSystem\n",
    "%writescript temp/Title.ruta\n",
    "%saveTypeSystem typesystems/TitleTypeSystem.xml\n",
    "\n",
    "TYPESYSTEM ReferencesTypeSystem;\n",
    "SCRIPT Date;\n",
    "SCRIPT Author;\n",
    "\n",
    "// only try to find dates and authors if there aren't any yet\n",
    "Document{-CONTAINS(Date)-> CALL(Date)};\n",
    "Document{-CONTAINS(Author)-> CALL(Author)};\n",
    "\n",
    "INT maxLength = 50;\n",
    "DECLARE TitleStart, TitleStop, Quote, Quoted;\n",
    "\n",
    "BLOCK(utils) Reference{}{\n",
    "    \n",
    "    // detect quoted text as it specifies the title in some formats\n",
    "    SPECIAL{REGEXP(\"\\\"\")->Quote};\n",
    "    (Quote ANY[1,maxLength]{-PARTOF(Quote)} Quote){-> Quoted};\n",
    "    \n",
    "    // the title normally starts after the Author or Date\n",
    "    (Author Date?){-> MARKLAST(TitleStart)};\n",
    "    Reference{-CONTAINS(TitleStart), -CONTAINS(Author)} ->{\n",
    "        // in case there was no author but an editor or something else \n",
    "        (AuthorStop Date?){-> MARKLAST(TitleStart)};\n",
    "    };\n",
    "    \n",
    "    // the title normally stops with a period\n",
    "    PERIOD{-PARTOF(Author),-PARTOF(Title)-> TitleStop};\n",
    "    \n",
    "    // some specific periods are excluded\n",
    "    NUM ts:@TitleStop{-> UNMARK(ts)} NUM;\n",
    "    ts:TitleStop{ENDSWITH(Reference)-> UNMARK(ts)};\n",
    "    ts:TitleStop{-> UNMARK(ts)} # TitleStart;\n",
    "    W{REGEXP(\"pp\", true)} ts:@TitleStop{-> UNMARK(ts)};\n",
    "    sw1:SW ts:@TitleStop{sw1.end==ts.begin,ts.end==sw2.begin-> UNMARK(ts)} sw2:SW;\n",
    "    \n",
    "    // if we did not find any, maybe it ends with a comma\n",
    "    Reference{-CONTAINS(TitleStop)} ->{\n",
    "        TitleStart # COMMA{->TitleStop};\n",
    "    };\n",
    "}\n",
    "\n",
    "BLOCK(Title) Reference{}{\n",
    "    // annotate titles either based on quoted text or based on start and stop (boundaries)\n",
    "    TitleStart Quoted{-PARTOF(Title)-> Title};\n",
    "    TitleStart (ANY[1,maxLength]{-PARTOF(TitleStop),-PARTOF(Title)} TitleStop){-> Title};\n",
    "    \n",
    "    // extend the span if there is an period\n",
    "    t:Title{->t.end=e.end} e:ANY{PARTOF({PERIOD,COMMA})};\n",
    "    \n",
    "    // remove duplicates just in case\n",
    "    t1:Title{CONTAINS(Title,2,100)}->{t2:Title{t2!=t1-> UNMARK(t2)};};\n",
    "}\n",
    "\n"
   ]
  },
  {
   "cell_type": "markdown",
   "metadata": {},
   "source": [
    "#### Error analysis on training data set"
   ]
  },
  {
   "cell_type": "code",
   "execution_count": null,
   "metadata": {},
   "outputs": [],
   "source": [
    "%inputDir temp/out_title_train\n",
    "%outputDir temp/unused\n",
    "%displayMode CSV\n",
    "%csvConfig BadReference\n",
    "\n",
    "DECLARE BadReference;\n",
    "Reference{OR(CONTAINS(FalsePositive),CONTAINS(FalseNegative)),-PARTOF(BadReference)-> BadReference};\n",
    "\n",
    "COLOR(TitleStart, \"green\");\n",
    "COLOR(TitleStop, \"red\");\n",
    "COLOR(TruePositive, \"lightgreen\");\n",
    "COLOR(FalsePositive, \"lightblue\");\n",
    "COLOR(FalseNegative, \"pink\");"
   ]
  },
  {
   "cell_type": "markdown",
   "metadata": {},
   "source": [
    "#### Results and error analysis on validation data set"
   ]
  },
  {
   "cell_type": "code",
   "execution_count": null,
   "metadata": {},
   "outputs": [],
   "source": [
    "%inputDir data/validation\n",
    "%outputDir temp/out_title_validation\n",
    "%displayMode EVALUATION\n",
    "%evalTypes Title\n",
    "\n",
    "SCRIPT Title;\n",
    "CALL(Title);"
   ]
  },
  {
   "cell_type": "code",
   "execution_count": null,
   "metadata": {},
   "outputs": [],
   "source": [
    "%inputDir temp/out_title_validation\n",
    "%outputDir temp/unused\n",
    "%displayMode CSV\n",
    "%csvConfig BadReference\n",
    "\n",
    "DECLARE BadReference;\n",
    "Reference{OR(CONTAINS(FalsePositive),CONTAINS(FalseNegative)),-PARTOF(BadReference)-> BadReference};\n",
    "\n",
    "COLOR(TitleStart, \"green\");\n",
    "COLOR(TitleStop, \"red\");\n",
    "COLOR(TruePositive, \"lightgreen\");\n",
    "COLOR(FalsePositive, \"lightblue\");\n",
    "COLOR(FalseNegative, \"pink\");"
   ]
  },
  {
   "cell_type": "markdown",
   "metadata": {},
   "source": [
    "#### Results on test data set"
   ]
  },
  {
   "cell_type": "code",
   "execution_count": null,
   "metadata": {},
   "outputs": [],
   "source": [
    "%inputDir data/test\n",
    "%displayMode EVALUATION\n",
    "%evalTypes Title\n",
    "\n",
    "SCRIPT Title;\n",
    "CALL(Title);"
   ]
  }
 ],
 "metadata": {
  "kernelspec": {
   "display_name": "UIMA Ruta",
   "language": "ruta",
   "name": "ruta"
  },
  "language_info": {
   "codemirror_mode": "ruta",
   "file_extension": ".ruta",
   "mimetype": "text/ruta",
   "name": "UIMA Ruta",
   "pygments_lexer": "ruta",
   "version": "3.1.0"
  }
 },
 "nbformat": 4,
 "nbformat_minor": 4
}
