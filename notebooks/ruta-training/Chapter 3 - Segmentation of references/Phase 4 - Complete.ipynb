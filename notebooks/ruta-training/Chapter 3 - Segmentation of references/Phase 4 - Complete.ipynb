{
 "cells": [
  {
   "cell_type": "markdown",
   "metadata": {},
   "source": [
    "# Complete\n",
    "\n",
    "This notebook combines the previously developed rules in of the other notebooks and annotates all remaining text positions as Venue. We evaluate this pipeline on the three sets and display the annotations for the train and validation set."
   ]
  },
  {
   "cell_type": "code",
   "execution_count": null,
   "metadata": {
    "scrolled": true
   },
   "outputs": [],
   "source": [
    "%inputDir data/train\n",
    "%outputDir out_complete_train\n",
    "%displayMode EVALUATION\n",
    "%evalTypes Date\n",
    "%writescript ./Complete.ruta\n",
    "%saveTypeSystem ./CompleteTypeSystem.xml\n",
    "\n",
    "TYPESYSTEM ReferencesTypeSystem;\n",
    "SCRIPT Date;\n",
    "SCRIPT Author;\n",
    "SCRIPT Title;\n",
    "\n",
    "CALL(Date);\n",
    "CALL(Author);\n",
    "CALL(Title);\n",
    "\n",
    "ANY+{-PARTOF(ReferenceEntity) -> Venue};"
   ]
  },
  {
   "cell_type": "code",
   "execution_count": null,
   "metadata": {},
   "outputs": [],
   "source": [
    "%inputDir out_complete_train\n",
    "%outputDir trash\n",
    "%displayMode CSV\n",
    "%csvConfig Reference\n",
    "\n",
    "COLOR(TruePositive, \"lightgreen\");\n",
    "COLOR(FalsePositive, \"lightblue\");\n",
    "COLOR(FalseNegative, \"pink\");"
   ]
  },
  {
   "cell_type": "code",
   "execution_count": null,
   "metadata": {
    "scrolled": true
   },
   "outputs": [],
   "source": [
    "%inputDir out_complete_train\n",
    "%outputDir trash\n",
    "%displayMode CSV\n",
    "%csvConfig Reference\n",
    "\n",
    "COLOR(Author, \"lightgreen\");\n",
    "COLOR(Date, \"lightblue\");\n",
    "COLOR(Title, \"yellow\");\n",
    "COLOR(Venue, \"lightgray\");"
   ]
  },
  {
   "cell_type": "code",
   "execution_count": null,
   "metadata": {},
   "outputs": [],
   "source": [
    "%inputDir data/validation\n",
    "%outputDir out_complete_validation\n",
    "%displayMode EVALUATION\n",
    "%evalTypes Author Date Title Venue\n",
    "\n",
    "SCRIPT Complete;\n",
    "CALL(Complete);"
   ]
  },
  {
   "cell_type": "code",
   "execution_count": null,
   "metadata": {},
   "outputs": [],
   "source": [
    "%inputDir out_complete_validation\n",
    "%outputDir trash\n",
    "%displayMode CSV\n",
    "%csvConfig Reference\n",
    "\n",
    "COLOR(Author, \"lightgreen\");\n",
    "COLOR(Date, \"lightblue\");\n",
    "COLOR(Title, \"yellow\");\n",
    "COLOR(Venue, \"lightgray\");"
   ]
  },
  {
   "cell_type": "code",
   "execution_count": null,
   "metadata": {},
   "outputs": [],
   "source": [
    "%inputDir data/test\n",
    "%displayMode EVALUATION\n",
    "%evalTypes Author Date Title Venue\n",
    "\n",
    "SCRIPT Complete;\n",
    "CALL(Complete);"
   ]
  }
 ],
 "metadata": {
  "kernelspec": {
   "display_name": "UIMA Ruta",
   "language": "ruta",
   "name": "ruta"
  },
  "language_info": {
   "codemirror_mode": "ruta",
   "file_extension": ".ruta",
   "mimetype": "text/ruta",
   "name": "UIMA Ruta",
   "pygments_lexer": "ruta",
   "version": "3.0.1"
  }
 },
 "nbformat": 4,
 "nbformat_minor": 4
}
