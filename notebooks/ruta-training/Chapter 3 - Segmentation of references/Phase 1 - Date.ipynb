{
 "cells": [
  {
   "cell_type": "markdown",
   "metadata": {},
   "source": [
    "# Date detection\n",
    "\n",
    "This notebook is the first part of three notebooks that are used to segment scientific references.\n",
    "\n",
    "This notebook detects `Date` annotations as an initial step. We start with Dates because they are probably the easiest annotations and they can also be useful for the detection of the other annotations."
   ]
  },
  {
   "cell_type": "markdown",
   "metadata": {},
   "source": [
    "The first cell contains the rules for the detection of `Date`s. The input is set to the training documents. These files (XMIs) contain complete reference section and also gold annotations for Author, Date, Title, Venue and Reference. We configure the cell to evaluate Date annotations and to display the evaluation results. Additionally, we store the content of the cell as a Ruta script and also the corresponding type system. \n",
    "\n",
    "We encourage you to remove some rules and investigate the effect..."
   ]
  },
  {
   "cell_type": "markdown",
   "metadata": {},
   "source": [
    "#### Let's first inspect a single training example with gold standard information"
   ]
  },
  {
   "cell_type": "code",
   "execution_count": null,
   "metadata": {},
   "outputs": [],
   "source": [
    "%displayMode RUTA_COLORING\n",
    "%loadCas data/train/A00-1042.txt.xmi\n",
    "%typeSystemDir typesystems/\n",
    "TYPESYSTEM ReferencesTypeSystem;\n",
    "COLOR(Date,\"lightgreen\");"
   ]
  },
  {
   "cell_type": "markdown",
   "metadata": {},
   "source": [
    "#### Let's now write some rules to detect dates\n",
    "\n",
    "We are making use of the `EVALUATION` mode which can be used to compare the generated `Date` annotation with the gold standard information."
   ]
  },
  {
   "cell_type": "code",
   "execution_count": null,
   "metadata": {},
   "outputs": [],
   "source": [
    "%inputDir data/train\n",
    "%outputDir temp/out_date_train\n",
    "\n",
    "// Evaluation mode for Date annotations\n",
    "%displayMode EVALUATION\n",
    "%evalTypes Date\n",
    "\n",
    "// Writing this script and the TypeSystem\n",
    "%writescript temp/Date.ruta\n",
    "%saveTypeSystem typesystems/DateTypeSystem.xml\n",
    "\n",
    "TYPESYSTEM ReferencesTypeSystem;\n",
    "\n",
    "DECLARE MonthInd, YearInd;\n",
    "WORDLIST MonthList = \"resources/months.txt\";\n",
    "MARKFAST(MonthInd, MonthList);\n",
    "\n",
    "DECLARE NoDatePrefix;\n",
    "WORDLIST NoDatePrefixList = \"resources/no_date_prefix.txt\";\n",
    "MARKFAST(NoDatePrefix, NoDatePrefixList);\n",
    "\n",
    "BLOCK(Date) Reference{}{\n",
    "    \n",
    "    // some simple candidates for dates\n",
    "    NUM{REGEXP(\"19..|20..\")-> YearInd};\n",
    "    // some dates also have an additional char\n",
    "    y:@YearInd{-> y.end=sw.end} sw:SW{REGEXP(\"[abc]\")};\n",
    "    \n",
    "    // create dates using YearInd\n",
    "    (SPECIAL.ct==\"(\" @YearInd SPECIAL.ct==\")\" COMMA?){-> Date};\n",
    "    (@YearInd{-PARTOF(Date)} PERIOD){-> Date};\n",
    "    (@YearInd{-PARTOF(Date)} COMMA[0,2]){-> Date};\n",
    "    \n",
    "    // expand Dates based on context\n",
    "    m:MonthInd (NUM SPECIAL)? NUM COMMA? d:@Date{-> d.begin = m.begin};\n",
    "    s:NUM SPECIAL NUM MonthInd d:@Date{-> d.begin = s.begin};\n",
    "    m:MonthInd d:@Date{-> d.begin = m.begin};\n",
    "    w1:W{INLIST(MonthList, \"\"+w1.ct+w2.ct)} SPECIAL w2:W d:@Date{-> d.begin = w1.begin};\n",
    "    \n",
    "    s1:SPECIAL.ct==\"(\" d:@Date{-> d.begin=s1.begin,d.end=s2.end} s2:SPECIAL.ct==\")\";\n",
    "    d:@Date{-> d.end=e.end} e:PERIOD;\n",
    "    b:NUM{REGEXP(\".|[12].|3[01]\")} d:@Date{STARTSWITH(YearInd)-> d.begin=b.begin};\n",
    "    \n",
    "    // remove some false positive dates\n",
    "    NoDatePrefix SPECIAL? d:@Date{-> UNMARK(d)};\n",
    "    d1:Date{-> UNMARK(d1)} SPECIAL NUM;\n",
    "    NUM SPECIAL d2:@Date{-> UNMARK(d2)};\n",
    "}\n",
    "\n",
    "// if there are several dates in one reference, try to remove some potential false positive\n",
    "Reference{CONTAINS(Date,2,100)} -> {\n",
    "    CAP SPECIAL? d:@Date{-> UNMARK(d)};\n",
    "};\n",
    "Reference{CONTAINS(Date,2,100)} -> {\n",
    "     d:@Date{-> UNMARK(d)} SPECIAL? CAP;\n",
    "};\n"
   ]
  },
  {
   "cell_type": "markdown",
   "metadata": {},
   "source": [
    "In the second cell, we use the results of the previous cell, i.e. the CAS files in the out_train folder, to investigate the remaining problems. This is achieved by setting the display mode CSV to summarize BadReferences, spans that contains a evaluation error (FalsePrositive or FalseNegative). The evaluation annotations are highlighted using different colors."
   ]
  },
  {
   "cell_type": "code",
   "execution_count": null,
   "metadata": {},
   "outputs": [],
   "source": [
    "%inputDir temp/out_date_train\n",
    "%outputDir temp/unused\n",
    "%displayMode CSV\n",
    "%csvConfig BadReference\n",
    "\n",
    "DECLARE BadReference;\n",
    "Reference{OR(CONTAINS(FalsePositive),CONTAINS(FalseNegative)),-PARTOF(BadReference)-> BadReference};\n",
    "\n",
    "COLOR(TruePositive, \"lightgreen\");\n",
    "COLOR(FalsePositive, \"lightblue\");\n",
    "COLOR(FalseNegative, \"pink\");"
   ]
  },
  {
   "cell_type": "markdown",
   "metadata": {},
   "source": [
    "#### Evaluation on validation data set"
   ]
  },
  {
   "cell_type": "markdown",
   "metadata": {},
   "source": [
    "In this cell, we load and apply the rules of the first cell (`Date.ruta`) on the validation documents. Thus, we can investigate how well the rules generalize to other examples. The evaluation results are displayed as before and the resulting annotated CAS files are stored in the folder out_validation."
   ]
  },
  {
   "cell_type": "code",
   "execution_count": null,
   "metadata": {},
   "outputs": [],
   "source": [
    "%inputDir data/validation\n",
    "%outputDir temp/out_date_validation\n",
    "%displayMode EVALUATION\n",
    "%evalTypes Date\n",
    "%scriptDir temp/ \n",
    "\n",
    "SCRIPT Date;\n",
    "CALL(Date);"
   ]
  },
  {
   "cell_type": "markdown",
   "metadata": {},
   "source": [
    "Now, we investigate the falsely annotated Dates in the validation set."
   ]
  },
  {
   "cell_type": "code",
   "execution_count": null,
   "metadata": {},
   "outputs": [],
   "source": [
    "%inputDir temp/out_date_validation\n",
    "%outputDir temp/unused\n",
    "%displayMode CSV\n",
    "%csvConfig BadReference\n",
    "\n",
    "DECLARE BadReference;\n",
    "Reference{OR(CONTAINS(FalsePositive),CONTAINS(FalseNegative)),-PARTOF(BadReference)-> BadReference};\n",
    "\n",
    "COLOR(TruePositive, \"lightgreen\");\n",
    "COLOR(FalsePositive, \"lightblue\");\n",
    "COLOR(FalseNegative, \"pink\");"
   ]
  },
  {
   "cell_type": "markdown",
   "metadata": {},
   "source": [
    "#### Results on test data set"
   ]
  },
  {
   "cell_type": "markdown",
   "metadata": {},
   "source": [
    "Finally, we also evaluate the rules on the test set but without investigating the resulting annotations."
   ]
  },
  {
   "cell_type": "code",
   "execution_count": null,
   "metadata": {},
   "outputs": [],
   "source": [
    "%inputDir data/test\n",
    "%displayMode EVALUATION\n",
    "%evalTypes Date\n",
    "\n",
    "SCRIPT Date;\n",
    "CALL(Date);"
   ]
  }
 ],
 "metadata": {
  "kernelspec": {
   "display_name": "UIMA Ruta",
   "language": "ruta",
   "name": "ruta"
  },
  "language_info": {
   "codemirror_mode": "ruta",
   "file_extension": ".ruta",
   "mimetype": "text/ruta",
   "name": "UIMA Ruta",
   "pygments_lexer": "ruta",
   "version": "3.1.0"
  }
 },
 "nbformat": 4,
 "nbformat_minor": 4
}
