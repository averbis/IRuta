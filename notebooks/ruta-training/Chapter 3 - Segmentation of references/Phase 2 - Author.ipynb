{
 "cells": [
  {
   "cell_type": "markdown",
   "metadata": {},
   "source": [
    "# Author\n",
    "\n",
    "After the dates, we try to detect the span of the authors of the publication and use the same cell setup as before: three stages for the train, validation and test sets."
   ]
  },
  {
   "cell_type": "markdown",
   "metadata": {},
   "source": [
    "We use a simple paradigm for the detection of Author: boundary matching. Here, we try to detect not the content of the author span, but only its boundaries, which are then simply connected. The auhotrs are normally listed at the beginning og a reference. For the end (AuthorStop), we combine some indicators like Date annotation, periods and colons. Additional wordlists help to disambiguate spans that actually refer to something else, like editors."
   ]
  },
  {
   "cell_type": "code",
   "execution_count": null,
   "metadata": {},
   "outputs": [],
   "source": [
    "%inputDir data/test\n",
    "%outputDir out_author_train\n",
    "%displayMode EVALUATION\n",
    "%evalTypes Author\n",
    "%writescript ./Author.ruta\n",
    "%saveTypeSystem ./AuthorTypeSystem.xml\n",
    "\n",
    "TYPESYSTEM ReferencesTypeSystem;\n",
    "SCRIPT Date;\n",
    "\n",
    "// only try to find dates if there aren't any yet\n",
    "Document{-CONTAINS(Date)-> CALL(Date)};\n",
    "\n",
    "DECLARE FirstInRef, AuthorStopInd, AuthorStop;\n",
    "DECLARE Initial, EditorInd, NoAuthorInd;\n",
    "\n",
    "WORDLIST EditorList = \"editor_ind.txt\";\n",
    "MARKFAST(EditorInd, EditorList, true);\n",
    "WORDLIST NoAuthorList = \"no_author.txt\";\n",
    "MARKFAST(NoAuthorInd, NoAuthorList, true);\n",
    "\n",
    "BLOCK(utils) Document{}{\n",
    "    Reference{-> MARKFIRST(FirstInRef)};\n",
    "    \n",
    "    CW{REGEXP(\".\")-> Initial};\n",
    "    (CW{REGEXP(\"..\")} PERIOD){-> Initial};\n",
    "    CAP{REGEXP(\".{2,3}\")-> Initial};\n",
    "    i:Initial{->i.end=p.end} p:PERIOD; \n",
    "    \n",
    "    ANY{-> AuthorStopInd} @Date;\n",
    "    PERIOD{-PARTOF(Initial)-> AuthorStopInd};\n",
    "    COLON{-> AuthorStopInd};\n",
    "    as:AuthorStopInd{-> UNMARK(as)} Initial{ENDSWITH(PERIOD)};\n",
    "}\n",
    "\n",
    "BLOCK(Author) Reference{}{\n",
    "   \n",
    "    # AuthorStopInd{-> AuthorStop};\n",
    "    \n",
    "    (FirstInRef # AuthorStop){-> Author};\n",
    "    a:Author{CONTAINS(EditorInd)-> UNMARK(a)};\n",
    "    a:Author{CONTAINS(NoAuthorInd)-> UNMARK(a)};\n",
    "}\n",
    "\n",
    "\n"
   ]
  },
  {
   "cell_type": "code",
   "execution_count": null,
   "metadata": {},
   "outputs": [],
   "source": [
    "%inputDir out_author_train\n",
    "%outputDir trash\n",
    "%displayMode CSV\n",
    "%csvConfig BadReference\n",
    "\n",
    "DECLARE BadReference;\n",
    "Reference{OR(CONTAINS(FalsePositive),CONTAINS(FalseNegative)),-PARTOF(BadReference)-> BadReference};\n",
    "\n",
    "COLOR(AuthorStop, \"red\");\n",
    "COLOR(TruePositive, \"lightgreen\");\n",
    "COLOR(FalsePositive, \"lightblue\");\n",
    "COLOR(FalseNegative, \"pink\");\n"
   ]
  },
  {
   "cell_type": "code",
   "execution_count": null,
   "metadata": {},
   "outputs": [],
   "source": [
    "%inputDir data/validation\n",
    "%outputDir out_author_validation\n",
    "%displayMode EVALUATION\n",
    "%evalTypes Author\n",
    "\n",
    "SCRIPT Author;\n",
    "CALL(Author);"
   ]
  },
  {
   "cell_type": "code",
   "execution_count": null,
   "metadata": {},
   "outputs": [],
   "source": [
    "%inputDir out_author_validation\n",
    "%outputDir trash\n",
    "%displayMode CSV\n",
    "%csvConfig BadReference\n",
    "\n",
    "DECLARE BadReference;\n",
    "Reference{OR(CONTAINS(FalsePositive),CONTAINS(FalseNegative)),-PARTOF(BadReference)-> BadReference};\n",
    "\n",
    "COLOR(AuthorStop, \"red\");\n",
    "COLOR(TruePositive, \"lightgreen\");\n",
    "COLOR(FalsePositive, \"lightblue\");\n",
    "COLOR(FalseNegative, \"pink\");"
   ]
  },
  {
   "cell_type": "code",
   "execution_count": null,
   "metadata": {},
   "outputs": [],
   "source": [
    "%inputDir data/test\n",
    "%displayMode EVALUATION\n",
    "%evalTypes Author\n",
    "\n",
    "SCRIPT Author;\n",
    "CALL(Author);"
   ]
  }
 ],
 "metadata": {
  "kernelspec": {
   "display_name": "UIMA Ruta",
   "language": "ruta",
   "name": "ruta"
  },
  "language_info": {
   "codemirror_mode": "ruta",
   "file_extension": ".ruta",
   "mimetype": "text/ruta",
   "name": "UIMA Ruta",
   "pygments_lexer": "ruta",
   "version": "3.0.1"
  }
 },
 "nbformat": 4,
 "nbformat_minor": 4
}
