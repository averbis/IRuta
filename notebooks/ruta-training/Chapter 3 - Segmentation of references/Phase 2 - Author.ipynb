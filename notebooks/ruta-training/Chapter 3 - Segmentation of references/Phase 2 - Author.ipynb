{
 "cells": [
  {
   "cell_type": "markdown",
   "metadata": {},
   "source": [
    "# Author detection\n",
    "\n",
    "After the date detection from the first notebook in this series, we try to detect the span of the authors of the publication and use the same cell setup as before: three stages for the train, validation and test sets."
   ]
  },
  {
   "cell_type": "markdown",
   "metadata": {},
   "source": [
    "We use a simple paradigm for the detection of `Author`: boundary matching. Here, we try to detect not the content of the author span, but only its boundaries, which are then simply connected. The authors are normally listed at the beginning of a reference. For the end (`AuthorStop`), we combine some indicators like `Date` annotation, `PERIODs` and `COLONs`. Additional wordlists help to disambiguate spans that actually refer to something else, like editors.\n",
    "\n",
    "The Ruta script for detecting dates need to be executed before running this script."
   ]
  },
  {
   "cell_type": "markdown",
   "metadata": {},
   "source": [
    "#### Let's first inspect a single training example with gold standard information"
   ]
  },
  {
   "cell_type": "code",
   "execution_count": null,
   "metadata": {},
   "outputs": [],
   "source": [
    "%displayMode RUTA_COLORING\n",
    "%loadCas data/train/A00-1042.txt.xmi\n",
    "%typeSystemDir typesystems/\n",
    "TYPESYSTEM ReferencesTypeSystem;\n",
    "COLOR(Author,\"lightgreen\");"
   ]
  },
  {
   "cell_type": "markdown",
   "metadata": {},
   "source": [
    "#### Let's now write some rules to detect authors"
   ]
  },
  {
   "cell_type": "code",
   "execution_count": null,
   "metadata": {},
   "outputs": [],
   "source": [
    "%inputDir data/test\n",
    "%outputDir temp/out_author_train\n",
    "\n",
    "// Evaluation mode for Author annotations\n",
    "%displayMode EVALUATION\n",
    "%evalTypes Author\n",
    "\n",
    "// Correct paths for resources. The script for detecting Dates has been written to temp/ when executing exercise 1.\n",
    "%scriptDir temp/\n",
    "%typeSystemDir typesystems/\n",
    "\n",
    "// Writing this script and the TypeSystem\n",
    "%writescript temp/Author.ruta\n",
    "%saveTypeSystem typesystems/AuthorTypeSystem.xml\n",
    "\n",
    "TYPESYSTEM ReferencesTypeSystem;\n",
    "SCRIPT Date;\n",
    "\n",
    "// Try to find dates if there aren't any yet\n",
    "Document{-CONTAINS(Date)-> CALL(Date)};\n",
    "\n",
    "DECLARE FirstInRef, AuthorStopInd, AuthorStop;\n",
    "DECLARE Initial, EditorInd, NoAuthorInd;\n",
    "\n",
    "WORDLIST EditorList = \"resources/editor_ind.txt\";\n",
    "MARKFAST(EditorInd, EditorList, true);\n",
    "WORDLIST NoAuthorList = \"resources/no_author.txt\";\n",
    "MARKFAST(NoAuthorInd, NoAuthorList, true);\n",
    "\n",
    "BLOCK(utils) Document{}{\n",
    "    Reference{-> MARKFIRST(FirstInRef)};\n",
    "    \n",
    "    // Detect author initials, e.g. \"P.\"\n",
    "    CW{REGEXP(\".\")-> Initial};\n",
    "    (CW{REGEXP(\"..\")} PERIOD){-> Initial};\n",
    "    CAP{REGEXP(\".{2,3}\")-> Initial};\n",
    "    i:Initial{->i.end=p.end} p:PERIOD; \n",
    "    \n",
    "    // Find the boundary of the Author annotation\n",
    "    ANY{-> AuthorStopInd} @Date;\n",
    "    PERIOD{-PARTOF(Initial)-> AuthorStopInd};\n",
    "    COLON{-> AuthorStopInd};\n",
    "    as:AuthorStopInd{-> UNMARK(as)} Initial{ENDSWITH(PERIOD)};\n",
    "}\n",
    "\n",
    "BLOCK(Author) Reference{}{\n",
    "   \n",
    "    # AuthorStopInd{-> AuthorStop};\n",
    "    \n",
    "    // Create actual Author annotations\n",
    "    (FirstInRef # AuthorStop){-> Author};\n",
    "    \n",
    "    // Disambiguation of Author annotations based on wordlists\n",
    "    a:Author{CONTAINS(EditorInd)-> UNMARK(a)};\n",
    "    a:Author{CONTAINS(NoAuthorInd)-> UNMARK(a)};\n",
    "}"
   ]
  },
  {
   "cell_type": "markdown",
   "metadata": {},
   "source": [
    "#### Error analysis on train data set"
   ]
  },
  {
   "cell_type": "code",
   "execution_count": null,
   "metadata": {},
   "outputs": [],
   "source": [
    "%inputDir temp/out_author_train\n",
    "%outputDir temp/unused\n",
    "%displayMode CSV\n",
    "%csvConfig BadReference\n",
    "\n",
    "DECLARE BadReference;\n",
    "Reference{OR(CONTAINS(FalsePositive),CONTAINS(FalseNegative)),-PARTOF(BadReference)-> BadReference};\n",
    "\n",
    "COLOR(AuthorStop, \"red\");\n",
    "COLOR(TruePositive, \"lightgreen\");\n",
    "COLOR(FalsePositive, \"lightblue\");\n",
    "COLOR(FalseNegative, \"pink\");"
   ]
  },
  {
   "cell_type": "markdown",
   "metadata": {},
   "source": [
    "#### Error analysis on validation data set"
   ]
  },
  {
   "cell_type": "code",
   "execution_count": null,
   "metadata": {},
   "outputs": [],
   "source": [
    "%inputDir data/validation\n",
    "%outputDir temp/out_author_validation\n",
    "%displayMode EVALUATION\n",
    "%evalTypes Author\n",
    "\n",
    "SCRIPT Author;\n",
    "CALL(Author);"
   ]
  },
  {
   "cell_type": "code",
   "execution_count": null,
   "metadata": {},
   "outputs": [],
   "source": [
    "%inputDir temp/out_author_validation\n",
    "%outputDir temp/unused\n",
    "%displayMode CSV\n",
    "%csvConfig BadReference\n",
    "\n",
    "DECLARE BadReference;\n",
    "Reference{OR(CONTAINS(FalsePositive),CONTAINS(FalseNegative)),-PARTOF(BadReference)-> BadReference};\n",
    "\n",
    "COLOR(AuthorStop, \"red\");\n",
    "COLOR(TruePositive, \"lightgreen\");\n",
    "COLOR(FalsePositive, \"lightblue\");\n",
    "COLOR(FalseNegative, \"pink\");"
   ]
  },
  {
   "cell_type": "markdown",
   "metadata": {},
   "source": [
    "#### Results on test data set"
   ]
  },
  {
   "cell_type": "code",
   "execution_count": null,
   "metadata": {},
   "outputs": [],
   "source": [
    "%inputDir data/test\n",
    "%displayMode EVALUATION\n",
    "%evalTypes Author\n",
    "\n",
    "SCRIPT Author;\n",
    "CALL(Author);"
   ]
  }
 ],
 "metadata": {
  "kernelspec": {
   "display_name": "UIMA Ruta",
   "language": "ruta",
   "name": "ruta"
  },
  "language_info": {
   "codemirror_mode": "ruta",
   "file_extension": ".ruta",
   "mimetype": "text/ruta",
   "name": "UIMA Ruta",
   "pygments_lexer": "ruta",
   "version": "3.1.0"
  }
 },
 "nbformat": 4,
 "nbformat_minor": 4
}
