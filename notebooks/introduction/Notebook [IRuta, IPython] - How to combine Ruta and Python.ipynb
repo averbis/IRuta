{
 "cells": [
  {
   "attachments": {
    "image-3.png": {
     "image/png": "[encoded data removed]"
    }
   },
   "cell_type": "markdown",
   "id": "appreciated-christian",
   "metadata": {
    "kernel": "SoS"
   },
   "source": [
    "# Integration with Python\n",
    "In many use-cases, an integration of Python with Ruta is desirable. Python can be used for all sort of general-purpose operations (e.g. loading/preprocessing the documents or a statistical evaluation of the results) while Ruta is used for creating/removing annotations.\n",
    "\n",
    "For this purpose, we use [SoS Notebooks](https://vatlab.github.io/sos-docs/). They are based on the SoS kernel which is a python-based kernel that allows communication with other kernel, e.g. with the IRuta kernel. \n",
    "\n",
    "In an SoS Notebook, Python and Ruta code can exist side by side. On the right, you can see a dropdown menu that can be used to select the kernel of each cell.\n",
    "\n",
    "![image-3.png](attachment:image-3.png)\n",
    "\n",
    "Each kernel has its own workspace. To share variables across workspace, custom magic commands are used. In the following, we will explain how to\n",
    "   1. Passing content of String variables from Python (SoS Kernel) to IRuta cell using `%expand`\n",
    "   2. Passing a UIMA CAS object from Python (SoS Kernel) to IRuta kernel using `%cas`\n",
    "   3. Pass a UIMA CAS from IRuta kernel to Python (SoS Kernel) using `%put`"
   ]
  },
  {
   "cell_type": "markdown",
   "id": "bibliographic-motorcycle",
   "metadata": {
    "kernel": "SoS"
   },
   "source": [
    "# 1. Passing content of String variables from Python to Ruta using `%expand`"
   ]
  },
  {
   "cell_type": "markdown",
   "id": "hairy-layer",
   "metadata": {
    "kernel": "SoS"
   },
   "source": [
    "### Variables in a Python Cell"
   ]
  },
  {
   "cell_type": "code",
   "execution_count": 1,
   "id": "optimum-disaster",
   "metadata": {
    "kernel": "SoS"
   },
   "outputs": [],
   "source": [
    "documentText = '\"Patient has fevers, but no chills.\"'\n",
    "problem_list = '\"fevers|chills|nausea\"'\n",
    "newTypeName  = \"Diagnosis\""
   ]
  },
  {
   "cell_type": "markdown",
   "id": "classified-ivory",
   "metadata": {
    "kernel": "SoS"
   },
   "source": [
    "### Using `%expand`, these values can be transferred to the IRuta kernel.\n",
    "- Everything in brackets { } is replaced by the values of the python variable (similar to f-strings in Python)\n",
    "- This allows for passing the document text, wordlists, generated Ruta code and other configuration parameters"
   ]
  },
  {
   "cell_type": "code",
   "execution_count": 2,
   "id": "placed-toddler",
   "metadata": {
    "kernel": "UIMA Ruta"
   },
   "outputs": [
    {
     "data": {
      "text/html": [
       "Patient has <span style='background:#008000'>fevers</span>, but no <span style='background:#008000'>chills</span>."
      ]
     },
     "execution_count": 2,
     "metadata": {},
     "output_type": "execute_result"
    }
   ],
   "source": [
    "%expand\n",
    "%documentText {documentText}\n",
    "DECLARE {newTypeName};\n",
    "{problem_list} -> {newTypeName};\n",
    "COLOR({newTypeName},\"green\");"
   ]
  },
  {
   "cell_type": "markdown",
   "id": "reported-agriculture",
   "metadata": {
    "kernel": "UIMA Ruta"
   },
   "source": [
    "##### is identical to"
   ]
  },
  {
   "cell_type": "code",
   "execution_count": 3,
   "id": "personal-homeless",
   "metadata": {
    "kernel": "UIMA Ruta"
   },
   "outputs": [
    {
     "data": {
      "text/html": [
       "Patient has <span style='background:#008000'>fevers</span>, but no <span style='background:#008000'>chills</span>."
      ]
     },
     "execution_count": 3,
     "metadata": {},
     "output_type": "execute_result"
    }
   ],
   "source": [
    "%documentText \"Patient has fevers, but no chills.\"\n",
    "DECLARE Diagnosis;\n",
    "\"fevers|chills|nausea\" -> Diagnosis;\n",
    "COLOR(Diagnosis,\"green\");"
   ]
  },
  {
   "cell_type": "markdown",
   "id": "sixth-substance",
   "metadata": {
    "kernel": "UIMA Ruta"
   },
   "source": [
    "# 2. Passing a UIMA CAS object from Python (SoS Kernel) to IRuta using `%cas`"
   ]
  },
  {
   "cell_type": "markdown",
   "id": "cubic-democracy",
   "metadata": {
    "kernel": "UIMA Ruta"
   },
   "source": [
    "A Common Analysis Structure (CAS) is an object that contains the document together with all annotations and a TypeSystem. You can read more about it in the [UIMA glossary](https://uima.apache.org/d/uimaj-current/overview_and_setup.html#ugr.glossary).\n",
    "\n",
    "While UIMA is originally based on Java, the [dkpro-cassis](https://github.com/dkpro/dkpro-cassis) module is used for handling CAS objects in Python."
   ]
  },
  {
   "cell_type": "markdown",
   "id": "accredited-startup",
   "metadata": {
    "kernel": "UIMA Ruta"
   },
   "source": [
    "### Loading the UIMA CAS in Python using dkpro-cassis"
   ]
  },
  {
   "cell_type": "code",
   "execution_count": 4,
   "id": "prostate-terrorism",
   "metadata": {
    "kernel": "SoS"
   },
   "outputs": [
    {
     "name": "stdout",
     "output_type": "stream",
     "text": [
      "Loaded a document of length 1510 characters with 3 drug mentionings.\n"
     ]
    }
   ],
   "source": [
    "import cassis\n",
    "with open('typesystems/MergedTypeSystem.xml', 'rb') as f:\n",
    "    typesystem = cassis.load_typesystem(f)   \n",
    "    \n",
    "with open(\"input/xmi/example_en.xmi\", \"rb\") as f:\n",
    "    cas1 = cassis.load_cas_from_xmi(f, typesystem=typesystem)\n",
    "print(f\"Loaded a document of length {len(cas1.sofa_string)} characters with {len(cas1.select('de.averbis.textanalysis.types.health.Drug'))} drug mentionings.\")"
   ]
  },
  {
   "cell_type": "markdown",
   "id": "indie-exception",
   "metadata": {
    "kernel": "SoS"
   },
   "source": [
    "### Loading it into IRuta kernel with line magic `%get`, highlight all \"Drug\" mentionings"
   ]
  },
  {
   "cell_type": "code",
   "execution_count": 5,
   "id": "colonial-headquarters",
   "metadata": {
    "kernel": "UIMA Ruta",
    "scrolled": true
   },
   "outputs": [
    {
     "data": {
      "text/html": [
       "<br />ANAMNESIS<br /><br />Symptoms in the sense of restless legs syndrome were noted in the legs with tingling paresthesias. This had occurred especially with the intake of <span style='background:#90ee90'>Isoptin</span>. Blood pressure was now well controlled. The nocturnal CPAP therapy has helped. Occasionally, angina pectoris with left precordial pressure occurs regardless of exertion, although it is weather-dependent. No dizziness, occasional subjective heart palpitations.<br /><br />EXAMINATION FINDINGS<br /><br />Blood pressure normotensive at the time of examination, regular heartbeat sequence, no pathological auscultation findings over the heart. Pure 1st and 2nd heart sounds. Vesicular breathing on both sides. Supraaortic conduction vessels are clear. At the time of examination, discrete leg edema bilaterally, foot pulses palpable laterally with some limitation.<br /><br />LABOR: No significant pathological abnormalities, especially very good adjustment of total cholesterol.<br /><br />ECG<br />Heart rate 63/min, sinus rhythm, indifferent type, T-flattening in aVL. Incomplete RSB.<br /><br />DIAGNOSIS<br />Coronary artery disease, arterial hypertension.<br /><br />THERAPY<br />From the cardiac side, there is a pleasing constancy of findings.<br />With regard to the leg symptoms, the arteries and veins were unremarkable, so that an attempt to stop <span style='background:#90ee90'>Isoptin</span> was discussed. In case of borderline elevated pulmonary pressure, oxygen insufflation during the night is not necessary in addition to CPAP therapy. We request consultation and re-presentation in 14 days.<br />Increase medication from <span style='background:#90ee90'>DILATREND</span><span style='background:#90ee90'> </span><span style='background:#90ee90'>12</span><span style='background:#90ee90'>.</span><span style='background:#90ee90'>5</span><span style='background:#90ee90'> </span><span style='background:#90ee90'>mg</span> to 1-0-1.<br />"
      ]
     },
     "execution_count": 5,
     "metadata": {},
     "output_type": "execute_result"
    }
   ],
   "source": [
    "%get cas1\n",
    "%displayMode RUTA_COLORING\n",
    "COLOR(Drug,\"lightgreen\");"
   ]
  },
  {
   "cell_type": "markdown",
   "id": "copyrighted-record",
   "metadata": {
    "kernel": "UIMA Ruta"
   },
   "source": [
    "#### Remove all drug mentionings."
   ]
  },
  {
   "cell_type": "code",
   "execution_count": 6,
   "id": "stupid-variety",
   "metadata": {
    "kernel": "UIMA Ruta"
   },
   "outputs": [
    {
     "data": {
      "text/html": [
       "<br />ANAMNESIS<br /><br />Symptoms in the sense of restless legs syndrome were noted in the legs with tingling paresthesias. This had occurred especially with the intake of Isoptin. Blood pressure was now well controlled. The nocturnal CPAP therapy has helped. Occasionally, angina pectoris with left precordial pressure occurs regardless of exertion, although it is weather-dependent. No dizziness, occasional subjective heart palpitations.<br /><br />EXAMINATION FINDINGS<br /><br />Blood pressure normotensive at the time of examination, regular heartbeat sequence, no pathological auscultation findings over the heart. Pure 1st and 2nd heart sounds. Vesicular breathing on both sides. Supraaortic conduction vessels are clear. At the time of examination, discrete leg edema bilaterally, foot pulses palpable laterally with some limitation.<br /><br />LABOR: No significant pathological abnormalities, especially very good adjustment of total cholesterol.<br /><br />ECG<br />Heart rate 63/min, sinus rhythm, indifferent type, T-flattening in aVL. Incomplete RSB.<br /><br />DIAGNOSIS<br />Coronary artery disease, arterial hypertension.<br /><br />THERAPY<br />From the cardiac side, there is a pleasing constancy of findings.<br />With regard to the leg symptoms, the arteries and veins were unremarkable, so that an attempt to stop Isoptin was discussed. In case of borderline elevated pulmonary pressure, oxygen insufflation during the night is not necessary in addition to CPAP therapy. We request consultation and re-presentation in 14 days.<br />Increase medication from DILATREND 12.5 mg to 1-0-1.<br />"
      ]
     },
     "execution_count": 6,
     "metadata": {},
     "output_type": "execute_result"
    }
   ],
   "source": [
    "d:Drug{-> UNMARK(d)};"
   ]
  },
  {
   "cell_type": "markdown",
   "id": "behind-identifier",
   "metadata": {
    "kernel": "UIMA Ruta"
   },
   "source": [
    "# 3. Pass a CAS from IRuta kernel to Python (SoS Kernel) using `%put`\n",
    "`%put modified_cas` => Saves current CAS into the SoS-kernel (Python) variable with name `modified_cas`"
   ]
  },
  {
   "cell_type": "code",
   "execution_count": 7,
   "id": "accepted-store",
   "metadata": {
    "kernel": "UIMA Ruta"
   },
   "outputs": [],
   "source": [
    "%put modified_cas"
   ]
  },
  {
   "cell_type": "code",
   "execution_count": 8,
   "id": "mediterranean-incident",
   "metadata": {
    "kernel": "SoS",
    "scrolled": true
   },
   "outputs": [
    {
     "name": "stdout",
     "output_type": "stream",
     "text": [
      "The document has 1510 characters with 0 drug mentionings.\n"
     ]
    }
   ],
   "source": [
    "print(f\"The document has {len(modified_cas.sofa_string)} characters with {len(modified_cas.select('de.averbis.textanalysis.types.health.Drug'))} drug mentionings.\")"
   ]
  }
 ],
 "metadata": {
  "kernelspec": {
   "display_name": "SoS",
   "language": "sos",
   "name": "sos"
  },
  "language_info": {
   "codemirror_mode": "sos",
   "file_extension": ".sos",
   "mimetype": "text/x-sos",
   "name": "sos",
   "nbconvert_exporter": "sos_notebook.converter.SoS_Exporter",
   "pygments_lexer": "sos"
  },
  "sos": {
   "kernels": [
    [
     "SoS",
     "sos",
     "",
     "",
     "sos"
    ],
    [
     "UIMA Ruta",
     "ruta",
     "ruta",
     "",
     "ruta"
    ]
   ],
   "panel": {
    "displayed": true,
    "height": 0
   },
   "version": "0.22.4"
  }
 },
 "nbformat": 4,
 "nbformat_minor": 5
}
